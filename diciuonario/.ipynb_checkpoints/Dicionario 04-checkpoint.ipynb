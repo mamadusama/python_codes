{
 "cells": [
  {
   "cell_type": "markdown",
   "metadata": {},
   "source": [
    "# For nos Dicionarios\n",
    "\n",
    "### Estrutura:"
   ]
  },
  {
   "cell_type": "raw",
   "metadata": {},
   "source": [
    "for chave in dicionario:\n",
    "    faça alguma coisa"
   ]
  },
  {
   "cell_type": "code",
   "execution_count": 19,
   "metadata": {},
   "outputs": [
    {
     "name": "stdout",
     "output_type": "stream",
     "text": [
      "iphone - vendas 15000 unidades\n",
      "samsung galaxy - vendas 12000 unidades\n",
      "tv samsung - vendas 10000 unidades\n",
      "ps5 - vendas 14300 unidades\n",
      "tablet - vendas 1720 unidades\n",
      "ipad - vendas 1000 unidades\n",
      "tv philco - vendas 2500 unidades\n",
      "notebook hp - vendas 1000 unidades\n",
      "notebook dell - vendas 17000 unidades\n",
      "notebook asus - vendas 2450 unidades\n"
     ]
    }
   ],
   "source": [
    "vendas_tecnologia = {'iphone': 15000, 'samsung galaxy': 12000, 'tv samsung': 10000, 'ps5': 14300, 'tablet': 1720, 'ipad': 1000, 'tv philco': 2500, 'notebook hp': 1000, 'notebook dell': 17000, 'notebook asus': 2450}\n",
    "\n",
    "#demonstrando o for\n",
    "for chave in vendas_tecnologia:\n",
    "    print(\"{} - vendas {} unidades\".format(chave, vendas_tecnologia[chave]))\n",
    "  "
   ]
  },
  {
   "cell_type": "markdown",
   "metadata": {},
   "source": [
    "- Qual o total de notebooks vendidos?"
   ]
  },
  {
   "cell_type": "code",
   "execution_count": 24,
   "metadata": {},
   "outputs": [
    {
     "name": "stdout",
     "output_type": "stream",
     "text": [
      "Total de notebooks vendidos são: 20,450 unidades\n"
     ]
    }
   ],
   "source": [
    "\n",
    "qtd_notbook_vend = 0\n",
    "\n",
    "for chave in vendas_tecnologia:\n",
    "    if  \"notebook\" in chave:\n",
    "        qtd_notbook_vend += vendas_tecnologia[chave]\n",
    "       \n",
    "        \n",
    "print(\"Total de notebooks vendidos são: {:,} unidades\".format(qtd_notbook_vend))         \n",
    "        \n",
    "        "
   ]
  }
 ],
 "metadata": {
  "kernelspec": {
   "display_name": "Python 3 (ipykernel)",
   "language": "python",
   "name": "python3"
  },
  "language_info": {
   "codemirror_mode": {
    "name": "ipython",
    "version": 3
   },
   "file_extension": ".py",
   "mimetype": "text/x-python",
   "name": "python",
   "nbconvert_exporter": "python",
   "pygments_lexer": "ipython3",
   "version": "3.12.7"
  }
 },
 "nbformat": 4,
 "nbformat_minor": 4
}
