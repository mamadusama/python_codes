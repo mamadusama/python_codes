{
 "cells": [
  {
   "cell_type": "markdown",
   "id": "da0a84a8-c390-4caf-b630-527120bfd36f",
   "metadata": {},
   "source": [
    "## Aulas extrar - Funções \n",
    "- uma caracteristica que da função é a possiblidade devolver multiplos valores, separados por virgulas.\n",
    "  * Esse tipo de retorno se chama - Retorno Multipla"
   ]
  },
  {
   "cell_type": "code",
   "execution_count": 2,
   "id": "e72ec7d6-5e78-4fa3-9260-521d49462e28",
   "metadata": {},
   "outputs": [
    {
     "name": "stdout",
     "output_type": "stream",
     "text": [
      "('Mamadu Sama', 29, ['python', 'Node js', 'SQL'])\n"
     ]
    }
   ],
   "source": [
    "def dados_funcionario():\n",
    "    nome = \"Mamadu Sama\"\n",
    "    idade = 29\n",
    "    cursos = [\"python\", \"Node js\", \"SQL\"]\n",
    "    return nome, idade, cursos\n",
    "print( dados_funcionario())"
   ]
  },
  {
   "cell_type": "markdown",
   "id": "875faf39-8660-4d47-8a9a-194f5aee0a48",
   "metadata": {},
   "source": [
    "Esses valores retornados são tratados em conjunto como uma tupla aimutavel e podem ser reatribuidos a distintas variaveis."
   ]
  },
  {
   "cell_type": "code",
   "execution_count": 8,
   "id": "df1a9617-e547-4480-8cda-04d6a44a0361",
   "metadata": {},
   "outputs": [
    {
     "name": "stdout",
     "output_type": "stream",
     "text": [
      "nome do funcionario é: Mamadu Sama\n",
      "idade do funcionario é: 29\n",
      "cursos do funcionario são: ['python', 'Node js', 'SQL']\n",
      "Funcionario concluiu python com sucesso!\n",
      "Funcionario está estudando Node js\n",
      "Funcionario concluiu SQL com sucesso\n"
     ]
    }
   ],
   "source": [
    "n , i, c =  dados_funcionario()\n",
    "\n",
    "print(f\"nome do funcionario é: {n}\")\n",
    "print(f\"idade do funcionario é: {i}\")\n",
    "print(f\"cursos do funcionario são: {c}\")\n",
    "\n",
    "# podemos ainda pegar mostar cada curso do funcionario:\n",
    "print(f\"Funcionario concluiu {c[0]} com sucesso!\")\n",
    "print(f\"Funcionario está estudando {c[1]}\")\n",
    "print(f\"Funcionario concluiu {c[2]} com sucesso\")"
   ]
  },
  {
   "cell_type": "code",
   "execution_count": null,
   "id": "a170fd00-c629-4d0f-8d27-1b1532163df2",
   "metadata": {},
   "outputs": [],
   "source": []
  }
 ],
 "metadata": {
  "kernelspec": {
   "display_name": "Python 3 (ipykernel)",
   "language": "python",
   "name": "python3"
  },
  "language_info": {
   "codemirror_mode": {
    "name": "ipython",
    "version": 3
   },
   "file_extension": ".py",
   "mimetype": "text/x-python",
   "name": "python",
   "nbconvert_exporter": "python",
   "pygments_lexer": "ipython3",
   "version": "3.12.7"
  }
 },
 "nbformat": 4,
 "nbformat_minor": 5
}
