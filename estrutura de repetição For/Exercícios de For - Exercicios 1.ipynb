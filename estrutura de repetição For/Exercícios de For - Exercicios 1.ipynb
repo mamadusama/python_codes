{
 "cells": [
  {
   "cell_type": "markdown",
   "metadata": {},
   "source": [
    "# Exercícios\n",
    "\n",
    "## 1. Criando um Registro de Hóspedes\n",
    "\n",
    "Digamos que você está criando o sistema para registrar a chegada de hóspedes em um hotel. No hotel, os hóspedes podem ter quartos com 1, 2, 3 e 4 pessoas. Seu sistema deve conseguir:\n",
    "\n",
    "1. Identificar quantas pessoas o hóspede que acabou de chegar vai ter no quarto (perguntando por meio de input)\n",
    "2. De acordo com a quantidade de pessoas do hóspede, ele deve fazer um for para perguntar o cpf e o nome de cada pessoa, a fim de registrá-la no quarto (2 inputs para cada pessoa, 1 para o cpf e outro para o nome)\n",
    "3. O seu programa então deve gerar uma lista com todas as pessoas que ficarão no quarto em que cada item dessa lista é o nome da pessoa e o cpf da pessoa, assim:"
   ]
  },
  {
   "cell_type": "raw",
   "metadata": {},
   "source": [
    "quarto = [\n",
    "    ['João', 'cpf:00000000000'],\n",
    "    ['Julia', 'cpf:11111111111'],\n",
    "    ['Marcus', 'cpf:22222222222'],\n",
    "    ['Maria', 'cpf:33333333333'],\n",
    "]"
   ]
  },
  {
   "cell_type": "markdown",
   "metadata": {},
   "source": [
    "- Para simplificar, não vamos nos preocupar com possibilidades de \"tentar colocar mais de 1 hóspede, digitar o cpf errado, etc. Nosso objetivo é treinar a criação de uma rotina de cadastro"
   ]
  },
  {
   "cell_type": "code",
   "execution_count": 2,
   "metadata": {},
   "outputs": [
    {
     "name": "stdin",
     "output_type": "stream",
     "text": [
      "Quer quarto para quantas pessoas?  2\n",
      "qual é seu nome ? Mamadu Sama\n",
      "qual é seu cpf 000000\n",
      "qual é seu nome ? Aissatu Conta\n",
      "qual é seu cpf 111111\n"
     ]
    },
    {
     "name": "stdout",
     "output_type": "stream",
     "text": [
      "[('Mamadu Sama', 'cpf: 000000 '), ('Aissatu Conta', 'cpf: 111111 ')]\n"
     ]
    }
   ],
   "source": [
    "#seu código aqui\n",
    "\n",
    "qtd_pessoas = int(input(\"Quer quarto para quantas pessoas? \"))\n",
    "quartos =  []\n",
    "for i in range(qtd_pessoas):\n",
    "    nome = input(\"qual é seu nome ?\")\n",
    "    cpf = input(\"qual é seu cpf\")\n",
    "    hospedes = (nome, \"cpf: {} \" .format(cpf))\n",
    "    quartos.append(hospedes)\n",
    "print(quartos)"
   ]
  },
  {
   "cell_type": "markdown",
   "metadata": {},
   "source": [
    "## 2. Análise de Vendas\n",
    "\n",
    "Nesse exercício vamos fazer uma \"análise simples\" de atingimento de Meta.\n",
    "\n",
    "Temos uma lista com os vendedores e os valores de vendas e queremos identificar (printar) quais os vendedores que bateram a meta e qual foi o valor que eles venderam."
   ]
  },
  {
   "cell_type": "code",
   "execution_count": 17,
   "metadata": {},
   "outputs": [
    {
     "name": "stdout",
     "output_type": "stream",
     "text": [
      "João bateu a meta , e vendeu 15000 unidades\n",
      "Julia bateu a meta , e vendeu 27000 unidades\n",
      "Ana bateu a meta , e vendeu 10300 unidades\n"
     ]
    }
   ],
   "source": [
    "meta = 10000\n",
    "vendas = [\n",
    "    ['João', 15000],\n",
    "    ['Julia', 27000],\n",
    "    ['Marcus', 9900],\n",
    "    ['Maria', 3750],\n",
    "    ['Ana', 10300],\n",
    "    ['Alon', 7870],\n",
    "]\n",
    "#seu código aqui\n",
    "\n",
    "for venda in vendas:\n",
    "    if venda[1] > meta:\n",
    "        print(\"{} bateu a meta , e vendeu {} unidades\".format(venda[0], venda[1]))\n",
    "   "
   ]
  },
  {
   "cell_type": "markdown",
   "metadata": {},
   "source": [
    "## 3. Comparação com Ano Anterior\n",
    "\n",
    "Digamos que você está analisando as vendas de produtos de um ecommerce e quer identificar quais produtos tiveram no ano de 2020 mais vendas do que no ano de 2019, para reportar isso para a diretoria.\n",
    "\n",
    "Sua resposta pode ser um print de cada produto, qual foi a venda de 2019, a venda de 2020 e o % de crescimento de 2020 para 2019.\n",
    "\n",
    "Lembrando, para calcular o % de crescimento de um produto de um ano para o outro, podemos fazer: (vendas_produto2020/vendas_produto2019 - 1)\n",
    "\n",
    "Dica: lembre do enumerate, ele pode facilitar seu \"for\""
   ]
  },
  {
   "cell_type": "code",
   "execution_count": 71,
   "metadata": {},
   "outputs": [
    {
     "name": "stdout",
     "output_type": "stream",
     "text": [
      "iphone - 558,147 €  de vendas em 2019\n",
      "iphone - 951,642 € de vendas em  2020\n",
      "o porcentagem crescimento de iphone de 2020 para 2019 foi de 71%\n",
      "========================================\n",
      "tv - 405,252 €  de vendas em 2019\n",
      "tv - 787,604 € de vendas em  2020\n",
      "o porcentagem crescimento de tv de 2020 para 2019 foi de 94%\n",
      "========================================\n",
      "máquina de café - 718,654 €  de vendas em 2019\n",
      "máquina de café - 867,660 € de vendas em  2020\n",
      "o porcentagem crescimento de máquina de café de 2020 para 2019 foi de 21%\n",
      "========================================\n",
      "notebook dell - 422,760 €  de vendas em 2019\n",
      "notebook dell - 694,913 € de vendas em  2020\n",
      "o porcentagem crescimento de notebook dell de 2020 para 2019 foi de 64%\n",
      "========================================\n",
      "notebook hp - 154,753 €  de vendas em 2019\n",
      "notebook hp - 539,704 € de vendas em  2020\n",
      "o porcentagem crescimento de notebook hp de 2020 para 2019 foi de 249%\n",
      "========================================\n",
      "microsoft surface - 438,508 €  de vendas em 2019\n",
      "microsoft surface - 667,179 € de vendas em  2020\n",
      "o porcentagem crescimento de microsoft surface de 2020 para 2019 foi de 52%\n",
      "========================================\n",
      "webcam - 237,467 €  de vendas em 2019\n",
      "webcam - 295,633 € de vendas em  2020\n",
      "o porcentagem crescimento de webcam de 2020 para 2019 foi de 24%\n",
      "========================================\n",
      "caixa de som - 489,705 €  de vendas em 2019\n",
      "caixa de som - 725,316 € de vendas em  2020\n",
      "o porcentagem crescimento de caixa de som de 2020 para 2019 foi de 48%\n",
      "========================================\n",
      "microfone - 328,311 €  de vendas em 2019\n",
      "microfone - 644,622 € de vendas em  2020\n",
      "o porcentagem crescimento de microfone de 2020 para 2019 foi de 96%\n",
      "========================================\n",
      "câmera canon - 591,120 €  de vendas em 2019\n",
      "câmera canon - 994,303 € de vendas em  2020\n",
      "o porcentagem crescimento de câmera canon de 2020 para 2019 foi de 68%\n",
      "========================================\n",
      "['iphone', 'tv', 'máquina de café', 'notebook dell', 'notebook hp', 'microsoft surface', 'webcam', 'caixa de som', 'microfone', 'câmera canon']\n",
      "10\n"
     ]
    }
   ],
   "source": [
    "produtos = ['iphone', 'galaxy', 'ipad', 'tv', 'máquina de café', 'kindle', 'geladeira', 'adega', 'notebook dell', 'notebook hp', 'notebook asus', 'microsoft surface', 'webcam', 'caixa de som', 'microfone', 'câmera canon']\n",
    "vendas2019 = [558147,712350,573823,405252,718654,531580,973139,892292,422760,154753,887061,438508,237467,489705,328311,591120]\n",
    "vendas2020 = [951642,244295,26964,787604,867660,78830,710331,646016,694913,539704,324831,667179,295633,725316,644622,994303]\n",
    "#seu código aqui\n",
    "produtos_com_mais_crescimento = []\n",
    "\n",
    "for i, produto in enumerate(produtos):\n",
    "    if vendas2020[i] > vendas2019[i]:\n",
    "        produtos_com_mais_crescimento.append(produto)\n",
    "\n",
    "        print(f\"{produto} - {vendas2019[i]:,} €  de vendas em 2019\" )\n",
    "        print(f\"{produto} - {vendas2020[i]:,} € de vendas em  2020\" )\n",
    "        \n",
    "        vendas_produto2019 = vendas2019[i]\n",
    "        vendas_produto2020 = vendas2020[i]\n",
    "        crescimento = vendas_produto2020/vendas_produto2019 - 1\n",
    "        print(f\"o porcentagem crescimento de {produto} de 2020 para 2019 foi de {crescimento:.0%}\")\n",
    "        \n",
    "        print(\"========================================\")\n",
    "       \n",
    "print(produtos_com_mais_crescimento)\n",
    "print(len(produtos_com_mais_crescimento))\n",
    "    "
   ]
  }
 ],
 "metadata": {
  "kernelspec": {
   "display_name": "Python 3 (ipykernel)",
   "language": "python",
   "name": "python3"
  },
  "language_info": {
   "codemirror_mode": {
    "name": "ipython",
    "version": 3
   },
   "file_extension": ".py",
   "mimetype": "text/x-python",
   "name": "python",
   "nbconvert_exporter": "python",
   "pygments_lexer": "ipython3",
   "version": "3.12.7"
  }
 },
 "nbformat": 4,
 "nbformat_minor": 4
}
