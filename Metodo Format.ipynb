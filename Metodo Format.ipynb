{
 "cells": [
  {
   "cell_type": "markdown",
   "metadata": {},
   "source": [
    "# METUDO OU FUNÇAO FORMAT \n",
    "#### O QUE É E PARA QUE SERVE \n",
    "\n",
    "A função `format()` em Python é uma maneira de formatar strings, permitindo que você insira valores em uma string de forma controlada e legível. Essa função é muito útil para criar mensagens dinâmicas, formatar números, datas e muito mais.\n",
    "\n",
    "### Sintaxe da Função `format()`\n",
    "A sintaxe básica da função `format()` é a seguinte:\n",
    "\n",
    "\"string com placeholders {}\".format(valores)\n"
   ]
  },
  {
   "cell_type": "markdown",
   "metadata": {},
   "source": [
    "### Placeholders\n",
    "Os placeholders são representados por chaves `{}` dentro da string. Você pode usar números dentro das chaves para referenciar a posição dos argumentos passados para a função `format()`. "
   ]
  },
  {
   "cell_type": "markdown",
   "metadata": {},
   "source": [
    "## Método format\n",
    "### Exemplos de Uso\n",
    "\n",
    "1. **Substituição Simples**"
   ]
  },
  {
   "cell_type": "code",
   "execution_count": 16,
   "metadata": {},
   "outputs": [
    {
     "name": "stdout",
     "output_type": "stream",
     "text": [
      "Meu nome é Maria e eu tenho 30 anos.\n"
     ]
    }
   ],
   "source": [
    "nome = \"Maria\"\n",
    "idade = 30\n",
    "mensagem = \"Meu nome é {} e eu tenho {} anos.\".format(nome, idade)\n",
    "print(mensagem)\n",
    "   "
   ]
  },
  {
   "cell_type": "markdown",
   "metadata": {},
   "source": [
    "2. **Referência por Índice**"
   ]
  },
  {
   "cell_type": "code",
   "execution_count": 22,
   "metadata": {},
   "outputs": [
    {
     "name": "stdout",
     "output_type": "stream",
     "text": [
      "O leão é mais rápido que o tigre.\n"
     ]
    }
   ],
   "source": [
    "   mensagem = \"O {0} é mais rápido que o {1}.\".format(\"leão\", \"tigre\")\n",
    "   print(mensagem)\n",
    "   "
   ]
  },
  {
   "cell_type": "markdown",
   "metadata": {},
   "source": [
    "3. **Formatação de Números**:"
   ]
  },
  {
   "cell_type": "code",
   "execution_count": 28,
   "metadata": {},
   "outputs": [
    {
     "name": "stdout",
     "output_type": "stream",
     "text": [
      "O valor de pi é aproximadamente 3.14.\n"
     ]
    }
   ],
   "source": [
    "   pi = 3.14159\n",
    "   mensagem = \"O valor de pi é aproximadamente {:.2f}.\".format(pi)\n",
    "   print(mensagem)\n",
    "   "
   ]
  },
  {
   "cell_type": "markdown",
   "metadata": {},
   "source": [
    "4. **Formatação com Nomes de Variáveis**:"
   ]
  },
  {
   "cell_type": "code",
   "execution_count": 36,
   "metadata": {},
   "outputs": [
    {
     "name": "stdout",
     "output_type": "stream",
     "text": [
      "Meu nome é Mamadu  tenho 29 anos vivo em Castelo Branco.\n"
     ]
    }
   ],
   "source": [
    "nome = \"Mamadu\"\n",
    "idade = 29\n",
    "cidade = \"Castelo Branco\"\n",
    "mensagem = \"Meu nome é {n}  tenho {i} anos vivo em {c}.\".format(n=nome, i=idade, c=cidade)\n",
    "print(mensagem)\n",
    "   "
   ]
  },
  {
   "cell_type": "markdown",
   "metadata": {},
   "source": [
    "5. **Formatação de Data**:"
   ]
  },
  {
   "cell_type": "code",
   "execution_count": 42,
   "metadata": {},
   "outputs": [
    {
     "name": "stdout",
     "output_type": "stream",
     "text": [
      "A data atual é: 30/10/2024\n"
     ]
    }
   ],
   "source": [
    "   from datetime import datetime\n",
    "   data_atual = datetime.now()\n",
    "   mensagem = \"A data atual é: {:%d/%m/%Y}\".format(data_atual)\n",
    "   print(mensagem)\n",
    "   "
   ]
  },
  {
   "cell_type": "markdown",
   "metadata": {},
   "source": [
    "### Considerações\n",
    "- A função `format()` é muito flexível e permite uma ampla gama de formatações.\n",
    "- A partir do Python 3.6, uma alternativa mais moderna e concisa é o uso de f-strings (strings formatadas), que permitem a interpolação de variáveis diretamente na string, como em `f\"Meu nome é {nome} e eu tenho {idade} anos.\"`.\n",
    "\n",
    "### Conclusão\n",
    "A função `format()` é uma ferramenta poderosa para a formatação de strings em Python, permitindo que você crie mensagens dinâmicas e bem formatadas de maneira simples e eficaz."
   ]
  }
 ],
 "metadata": {
  "kernelspec": {
   "display_name": "Python 3 (ipykernel)",
   "language": "python",
   "name": "python3"
  },
  "language_info": {
   "codemirror_mode": {
    "name": "ipython",
    "version": 3
   },
   "file_extension": ".py",
   "mimetype": "text/x-python",
   "name": "python",
   "nbconvert_exporter": "python",
   "pygments_lexer": "ipython3",
   "version": "3.12.7"
  }
 },
 "nbformat": 4,
 "nbformat_minor": 4
}
