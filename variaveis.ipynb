{
 "cells": [
  {
   "cell_type": "markdown",
   "id": "39f84038-6e1a-49c3-80da-7146fa959333",
   "metadata": {},
   "source": [
    "## Variaveis"
   ]
  },
  {
   "cell_type": "markdown",
   "id": "3336ca45-f9c2-4946-8d58-daee5f6f98f4",
   "metadata": {},
   "source": [
    "#  o que são variaveis em python ?\n",
    "\n",
    "Variáveis em Python são nomes que representam valores armazenados na memória do computador. Elas permitem que você armazene, manipule e acesse dados de forma eficiente. Aqui estão alguns pontos importantes sobre variáveis em Python:\n",
    "\n",
    "1. **Declaração**: Para criar uma variável, você simplesmente atribui um valor a um nome. Por exemplo:"
   ]
  },
  {
   "cell_type": "code",
   "execution_count": 27,
   "id": "1044f83c-2731-405b-a6d8-e04901246842",
   "metadata": {},
   "outputs": [
    {
     "name": "stdout",
     "output_type": "stream",
     "text": [
      "25\n",
      "Mamadu\n"
     ]
    }
   ],
   "source": [
    "idade = 25\n",
    "nome = \"Mamadu\"\n",
    "print(idade)\n",
    "print(nome)\n",
    "   "
   ]
  },
  {
   "cell_type": "markdown",
   "id": "6b6ec90c-a22e-4954-8e7e-2b8178d4a024",
   "metadata": {},
   "source": [
    "2. **Tipos de Dados**: As variáveis podem armazenar diferentes tipos de dados, como:\n",
    "   - Números inteiros (`int`): `idade = 25`\n",
    "   - Números de ponto flutuante (`float`): `altura = 1.75`\n",
    "   - Strings (`str`): `nome = \"João\"`\n",
    "   - Listas (`list`): `frutas = [\"maçã\", \"banana\", \"laranja\"]`\n",
    "   - Dicionários (`dict`): `pessoa = {\"nome\": \"João\", \"idade\": 25}`"
   ]
  },
  {
   "cell_type": "code",
   "execution_count": 36,
   "id": "112c7e2c-1b62-41fd-93dd-605035c91e6d",
   "metadata": {},
   "outputs": [
    {
     "name": "stdout",
     "output_type": "stream",
     "text": [
      "Mamadu Sama\n",
      "30\n",
      "1.9\n",
      "['maçã', 'banana', 'laranja']\n",
      "{'nome': 'Guido', 'idade': 25}\n"
     ]
    }
   ],
   "source": [
    "#exemplo\n",
    "\n",
    "nome = \"Mamadu Sama\" # string\n",
    "idade = 30 # int \n",
    "altura = 1.90 # float\n",
    "frutas = [\"maçã\", \"banana\", \"laranja\"] #lista\n",
    "pessoa = {\"nome\": \"Guido\", \"idade\": 25} # Dicionário\n",
    "\n",
    "print(nome)\n",
    "print(idade)\n",
    "print(altura)\n",
    "print(frutas)\n",
    "print(pessoa)"
   ]
  },
  {
   "cell_type": "markdown",
   "id": "a943658d-9447-4397-94fb-ac6552c1cb50",
   "metadata": {},
   "source": [
    "3. **Atribuição Dinâmica**: Em Python, você não precisa declarar o tipo da variável antes de usá-la. O tipo é determinado automaticamente com base no valor atribuído.\n",
    "\n",
    "4. **Escopo**: O escopo de uma variável refere-se à parte do código onde a variável é acessível. Variáveis definidas dentro de uma função têm escopo local, enquanto variáveis definidas fora de funções têm escopo global.\n",
    "\n",
    "5. **Nomenclatura**: Os nomes das variáveis devem começar com uma letra ou um sublinhado e podem conter letras, números e sublinhados. Eles não podem conter espaços ou caracteres especiais.\n",
    "\n"
   ]
  },
  {
   "cell_type": "markdown",
   "id": "bb19ce55-71a1-4b43-a724-d7310ce34031",
   "metadata": {},
   "source": [
    "Em resumo, variáveis são fundamentais em Python e em muitas outras linguagens de programação, pois permitem que você armazene e manipule dados de maneira flexível e eficiente."
   ]
  },
  {
   "cell_type": "markdown",
   "id": "12093af1-6e36-496c-8111-4f445beb5f65",
   "metadata": {},
   "source": [
    "# Vamos fazer alguns Exemplos de usar variaveis\n",
    "\n",
    "se ponhamos que trabalha numa empresa , e pedirama para desenvolver um programa para fazer calculo de lucro da empresa, \n",
    "onde o faturamento será = 100 e custo de => 50 , calcule o lucro que a empresa obteve."
   ]
  },
  {
   "cell_type": "code",
   "execution_count": 58,
   "id": "43e95273-632c-46f3-8576-05b9970aac09",
   "metadata": {},
   "outputs": [],
   "source": [
    "faturamento = 100\n",
    "custo = 60"
   ]
  },
  {
   "cell_type": "code",
   "execution_count": 62,
   "id": "f9fce3cd-5703-46f7-a6f3-ce48cc4d259b",
   "metadata": {},
   "outputs": [
    {
     "name": "stdout",
     "output_type": "stream",
     "text": [
      "40\n"
     ]
    }
   ],
   "source": [
    "lucro = faturamento - custo\n",
    "print(lucro)"
   ]
  }
 ],
 "metadata": {
  "kernelspec": {
   "display_name": "Python 3 (ipykernel)",
   "language": "python",
   "name": "python3"
  },
  "language_info": {
   "codemirror_mode": {
    "name": "ipython",
    "version": 3
   },
   "file_extension": ".py",
   "mimetype": "text/x-python",
   "name": "python",
   "nbconvert_exporter": "python",
   "pygments_lexer": "ipython3",
   "version": "3.12.7"
  }
 },
 "nbformat": 4,
 "nbformat_minor": 5
}
