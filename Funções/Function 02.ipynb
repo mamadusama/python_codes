{
 "cells": [
  {
   "cell_type": "markdown",
   "metadata": {},
   "source": [
    "# Retornar um valor na Function Python\n",
    "\n",
    "### Estrutura Básica"
   ]
  },
  {
   "cell_type": "raw",
   "metadata": {},
   "source": [
    "def nome_funcao():\n",
    "    return valor_final"
   ]
  },
  {
   "cell_type": "markdown",
   "metadata": {},
   "source": [
    "- Exemplo: vamos criar uma função de cadastro de um Produto. Essa função deve garantir que o produto cadastrado está em letra minúscula."
   ]
  },
  {
   "cell_type": "code",
   "execution_count": 1,
   "metadata": {},
   "outputs": [],
   "source": [
    "def cadastrar_produto():\n",
    "    produto = input('Digite o nome do produto que deseja cadastrar')\n",
    "    produto = produto.casefold()\n",
    "    produto = produto.strip()\n",
    "    return produto\n"
   ]
  },
  {
   "cell_type": "code",
   "execution_count": 7,
   "metadata": {},
   "outputs": [
    {
     "name": "stdin",
     "output_type": "stream",
     "text": [
      "Digite o nome do produto que deseja cadastrar banana\n"
     ]
    },
    {
     "name": "stdout",
     "output_type": "stream",
     "text": [
      "banana\n"
     ]
    }
   ],
   "source": [
    "produto = cadastrar_produto()\n",
    "\n",
    "print(cadastar)\n",
    "\n",
    "# podemos tambem declar a o mesmo noome de variavel que está dentro da funçao .\n",
    "#porque el só existe dentro da funcao isso nao impacta o codigo como se vê  em cima"
   ]
  },
  {
   "cell_type": "markdown",
   "metadata": {},
   "source": [
    "- uma variavel declarada fora da função (ao mesmo nível com função), essa variavel está acessivel apartir da função;\n",
    "  * essas são conhecidas como variaveis globais.\n",
    "    - vamos cria uma função de cadastro de úsuarios"
   ]
  },
  {
   "cell_type": "code",
   "execution_count": 13,
   "metadata": {},
   "outputs": [
    {
     "name": "stdin",
     "output_type": "stream",
     "text": [
      "digite seu nome MAMADU\n",
      "digite seu apelido SAMA\n"
     ]
    },
    {
     "name": "stdout",
     "output_type": "stream",
     "text": [
      "nome: mamadu , apelido : sama\n"
     ]
    }
   ],
   "source": [
    "# senpre que declaramos a variavel antes dda função , podemos ter acesso a essa veriavel apartir de dentro.\n",
    "\n",
    "usuarios = {} # variavel global\n",
    "\n",
    "def cadastrar_usuario():\n",
    "    nome = input(\"digite seu nome\")\n",
    "    nome = nome.casefold()\n",
    "    nome = nome.strip()\n",
    "    apelido = input(\"digite seu apelido\")\n",
    "    apelido = apelido.casefold()\n",
    "    apelido = apelido.strip()\n",
    "\n",
    "    usuarios[\"nome\"] = nome\n",
    "    usuarios[\"apelido\"] = apelido\n",
    "   \n",
    "cadastrar_usuario()\n",
    "\n",
    "print(f\"nome: {usuarios[\"nome\"]} , apelido : {usuarios[\"apelido\"]}\")"
   ]
  },
  {
   "cell_type": "code",
   "execution_count": 14,
   "metadata": {},
   "outputs": [
    {
     "name": "stdout",
     "output_type": "stream",
     "text": [
      "variavel nome cujo o valor é : Mamadu Sama está fora de funçao , mas no mesmo nivel\n"
     ]
    }
   ],
   "source": [
    "# dessa forma também podemos ter acesso a variavel por dentro da funçÃo mesmo estando fora da funçao .\n",
    "\n",
    "def teste():\n",
    "    print(f\"variavel nome cujo o valor é : {nome} está fora de funçao , mas no mesmo nivel\")\n",
    "nome = \"Mamadu Sama\"\n",
    "\n",
    "teste()"
   ]
  }
 ],
 "metadata": {
  "kernelspec": {
   "display_name": "Python 3 (ipykernel)",
   "language": "python",
   "name": "python3"
  },
  "language_info": {
   "codemirror_mode": {
    "name": "ipython",
    "version": 3
   },
   "file_extension": ".py",
   "mimetype": "text/x-python",
   "name": "python",
   "nbconvert_exporter": "python",
   "pygments_lexer": "ipython3",
   "version": "3.12.7"
  }
 },
 "nbformat": 4,
 "nbformat_minor": 4
}
