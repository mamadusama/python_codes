{
 "cells": [
  {
   "cell_type": "markdown",
   "metadata": {},
   "source": [
    "# Exercícios\n",
    "\n",
    "São exercícios bem parecidos com os que fizemos com listas. Mas na tupla, podemos não só trabalhar com índices, mas fazer o \"unpacking\" das tuplas, o que pode facilitar nossos códigos.\n",
    "\n",
    "## 1. Análise de Vendas\n",
    "\n",
    "Nesse exercício vamos fazer uma \"análise simples\" de atingimento de Meta.\n",
    "\n",
    "Temos uma lista com os vendedores e os valores de vendas e queremos identificar (printar) quais os vendedores que bateram a meta e qual foi o valor que eles venderam."
   ]
  },
  {
   "cell_type": "code",
   "execution_count": 13,
   "metadata": {},
   "outputs": [
    {
     "name": "stdout",
     "output_type": "stream",
     "text": [
      "João bateu a meta , vendeu 15000 unidades\n",
      "Julia bateu a meta , vendeu 27000 unidades\n",
      "Ana bateu a meta , vendeu 10300 unidades\n"
     ]
    }
   ],
   "source": [
    "meta = 10000\n",
    "vendas = [\n",
    "    ('João', 15000),\n",
    "    ('Julia', 27000),\n",
    "    ('Marcus', 9900),\n",
    "    ('Maria', 3750),\n",
    "    ('Ana', 10300),\n",
    "    ('Alon', 7870),\n",
    "]\n",
    "\n",
    "for vendedor, qtde in vendas:\n",
    "    if qtde > meta:\n",
    "        print(\"{} bateu a meta , vendeu {} unidades\".format(vendedor, qtde))\n",
    "\n",
    "    # PODEMOS FAZER ASSIM EM FORMA DE UNPACKING\n",
    "    \n",
    "# for venda in vendas:\n",
    "#     vendedor, qtde = venda\n",
    "#     if qtde > meta:\n",
    "#         print(\"{} bateu a meta , vendeu {} unidades\".format(vendedor, qtde))\n",
    "       "
   ]
  },
  {
   "cell_type": "markdown",
   "metadata": {},
   "source": [
    "## 2. Comparação com Ano Anterior\n",
    "\n",
    "Digamos que você está analisando as vendas de produtos de um ecommerce e quer identificar quais produtos tiveram no ano de 2020 mais vendas do que no ano de 2019, para reportar isso para a diretoria.\n",
    "\n",
    "Sua resposta pode ser um print de cada produto, qual foi a venda de 2019, a venda de 2020 e o % de crescimento de 2020 para 2019.\n",
    "\n",
    "Lembrando, para calcular o % de crescimento de um produto de um ano para o outro, podemos fazer: (vendas_produto2020/vendas_produto2019 - 1)\n",
    "\n",
    "A lógica da tupla é: (produto, vendas2019, vendas2020)"
   ]
  },
  {
   "cell_type": "code",
   "execution_count": 20,
   "metadata": {},
   "outputs": [
    {
     "name": "stdout",
     "output_type": "stream",
     "text": [
      "iphone teve 558147 vendas em 2019, 951642 vendas em 2020 com um crescimento de 70.5%\n",
      "tv teve 405252 vendas em 2019, 787604 vendas em 2020 com um crescimento de 94.3%\n",
      "máquina de café teve 718654 vendas em 2019, 867660 vendas em 2020 com um crescimento de 20.7%\n",
      "notebook dell teve 422760 vendas em 2019, 694913 vendas em 2020 com um crescimento de 64.4%\n",
      "notebook hp teve 154753 vendas em 2019, 539704 vendas em 2020 com um crescimento de 248.8%\n",
      "microsoft surface teve 438508 vendas em 2019, 667179 vendas em 2020 com um crescimento de 52.1%\n",
      "webcam teve 237467 vendas em 2019, 295633 vendas em 2020 com um crescimento de 24.5%\n",
      "caixa de som teve 489705 vendas em 2019, 725316 vendas em 2020 com um crescimento de 48.1%\n",
      "microfone teve 328311 vendas em 2019, 644622 vendas em 2020 com um crescimento de 96.3%\n",
      "câmera canon teve 591120 vendas em 2019, 994303 vendas em 2020 com um crescimento de 68.2%\n"
     ]
    }
   ],
   "source": [
    "vendas_produtos = [\n",
    "    ('iphone', 558147, 951642), \n",
    "    ('galaxy', 712350, 244295), \n",
    "    ('ipad', 573823, 26964), \n",
    "    ('tv', 405252, 787604), \n",
    "    ('máquina de café', 718654, 867660), \n",
    "    ('kindle', 531580, 78830), \n",
    "    ('geladeira', 973139, 710331), \n",
    "    ('adega', 892292, 646016), \n",
    "    ('notebook dell', 422760, 694913), \n",
    "    ('notebook hp', 154753, 539704), \n",
    "    ('notebook asus', 887061, 324831), \n",
    "    ('microsoft surface', 438508, 667179),\n",
    "    ('webcam', 237467, 295633), \n",
    "    ('caixa de som', 489705, 725316), \n",
    "    ('microfone', 328311, 644622), \n",
    "    ('câmera canon', 591120, 994303),\n",
    "]\n",
    "\n",
    "for produto, venda2019, venda2020 in vendas_produtos:\n",
    "    if venda2020 > venda2019:\n",
    "        crecimento = venda2020 / venda2019 - 1\n",
    "        print(\"{} teve {} vendas em 2019, {} vendas em 2020 com um crescimento de {:.1%}\".format(produto, venda2019, venda2020, crecimento))\n",
    "\n",
    "#seu código aqui"
   ]
  }
 ],
 "metadata": {
  "kernelspec": {
   "display_name": "Python 3 (ipykernel)",
   "language": "python",
   "name": "python3"
  },
  "language_info": {
   "codemirror_mode": {
    "name": "ipython",
    "version": 3
   },
   "file_extension": ".py",
   "mimetype": "text/x-python",
   "name": "python",
   "nbconvert_exporter": "python",
   "pygments_lexer": "ipython3",
   "version": "3.12.7"
  }
 },
 "nbformat": 4,
 "nbformat_minor": 4
}
