{
 "cells": [
  {
   "cell_type": "markdown",
   "metadata": {},
   "source": [
    "# Juntar Listas, Ordenar e Cuidados Especiais\n",
    "\n",
    "### 2 formas:\n",
    "\n",
    "- lista1.extend(lista2)\n",
    "- lista_nova = lista1 + lista2\n",
    "\n",
    "Obs: o Método .append não junta listas, mas adiciona um valor no final da lista"
   ]
  },
  {
   "cell_type": "code",
   "execution_count": 3,
   "metadata": {},
   "outputs": [
    {
     "name": "stdout",
     "output_type": "stream",
     "text": [
      "['apple tv', 'mac', 'iphone x', 'iphone 11', 'IPad', 'apple watch', 'mac book', 'airpods']\n",
      "['iphone 12', 'ioculos']\n",
      "================================\n",
      "['apple tv', 'mac', 'iphone x', 'iphone 11', 'IPad', 'apple watch', 'mac book', 'airpods', 'iphone 12', 'ioculos']\n"
     ]
    }
   ],
   "source": [
    "produtos = ['apple tv', 'mac', 'iphone x', 'iphone 11', 'IPad', 'apple watch', 'mac book', 'airpods']\n",
    "novos_produtos = ['iphone 12', 'ioculos']\n",
    "print(produtos)\n",
    "print(novos_produtos)\n",
    "print(\"================================\")\n",
    "\n",
    "produtos.extend(novos_produtos)\n",
    "print(produtos)\n"
   ]
  },
  {
   "cell_type": "markdown",
   "metadata": {},
   "source": [
    "### Cuidado:\n",
    "\n",
    "- [1] + [2] não é a mesma coisa que 1 + 2, então cuidado sempre com o formato dos valores na hora de fazer operações."
   ]
  },
  {
   "cell_type": "code",
   "execution_count": 36,
   "metadata": {},
   "outputs": [
    {
     "name": "stdout",
     "output_type": "stream",
     "text": [
      "[1000, 1500, 15000, 20000, 270, 900, 100, 1200]\n",
      "==============================\n",
      "[15000]\n",
      "[20000]\n",
      "==============================\n",
      "[1, 2]\n",
      "3\n",
      "==============================\n",
      "[15000, 20000]\n",
      "==============================\n",
      "15000\n",
      "20000\n",
      "O iphone teve 35000 unidades vendidas \n",
      "==============================\n",
      "O iphone x teve 15000 unidades vendidas e iphone 11 teve 20000 unidades vendidas ,\n",
      "no entanto  o iphone teve um total de 35000 unidades vendidas\n",
      "==============================\n",
      "Total das vendas são: 35000\n"
     ]
    }
   ],
   "source": [
    "produtos = ['apple tv', 'mac', 'iphone x', 'iphone 11', 'IPad', 'apple watch', 'mac book', 'airpods']\n",
    "\n",
    "vendas = [1000, 1500, 15000, 20000, 270, 900, 100, 1200]\n",
    "vendas_iphonex = [15000]\n",
    "vendas_iphone11 = [20000]\n",
    "\n",
    "\n",
    "\n",
    "print(vendas)\n",
    "print(\"==============================\")\n",
    "print(vendas_iphonex)\n",
    "print(vendas_iphone11)\n",
    "print(\"==============================\")\n",
    "#agora vamos tentar fazer algumas operações\n",
    "# obs: cuidado com esse tipo, veremos em breve essa situção como deve ser melhor\n",
    "print([1] + [2]) # junta elementos de listas distintas numa unica lista\n",
    "print(1 + 2) # soma os numeros\n",
    "\n",
    "print(\"==============================\")\n",
    "\n",
    "print(vendas_iphonex + vendas_iphone11 ) # juntar 2 listas numa única \n",
    "\n",
    "print(\"==============================\")\n",
    "\n",
    "# Agora vamos tentar somar os valores de cada lista\n",
    "\n",
    " # Nesse caso temos que lembrar dos indices dos elementos dentro de lista,\n",
    " # depois podemos fazer diretamente as somas ou operações que desejamos fazer\n",
    "\n",
    "## Somar vendas de iphone.(podemos fazer de diferente formas ):\n",
    "# 1- se nao sabemos indice podemos procurar indice e depois fazer soma \n",
    "# 2- podemos criar variavel e armazenar item com sua posição\n",
    "#===================================================================\n",
    "# primeira forma\n",
    "\n",
    "i = produtos.index(\"iphone x\")\n",
    "vendas_iphonex = vendas[i]\n",
    "produto_iphonex = produtos[i]\n",
    "\n",
    "print(vendas_iphonex)\n",
    "\n",
    "\n",
    "i = produtos.index(\"iphone 11\")\n",
    "vendas_iphone11 = vendas[i]\n",
    "print(vendas_iphone11)\n",
    "produto_iphone11 = produtos[i]\n",
    "\n",
    "soma_vendas_iphone = vendas_iphonex + vendas_iphone11\n",
    "print(\"O iphone teve {} unidades vendidas \".format(soma_vendas_iphone))\n",
    "\n",
    "print(\"==============================\")\n",
    "#===================================================================\n",
    "# segunda  forma(essa é a forma que já sabemos é mais simples porque está guardado na variagel cada um )\n",
    "\n",
    "\n",
    "print(\"O {} teve {} unidades vendidas e {} teve {} unidades vendidas ,\\nno entanto  o iphone teve um total de {} unidades vendidas\".format(produto_iphonex,vendas_iphonex,produto_iphone11, vendas_iphone11,soma_vendas_iphone))\n",
    "\n",
    "print(\"==============================\")\n",
    "# obs: vamos pegar diretamente os valores guarda na variavel em cima\n",
    "vendas_iphonex = [15000]\n",
    "vendas_iphone11 = [20000]\n",
    "\n",
    "print(\"Total das vendas são: {}\" .format(vendas_iphonex[0]+vendas_iphone11[0]))\n"
   ]
  },
  {
   "cell_type": "markdown",
   "metadata": {},
   "source": [
    "### Ordenar listas\n",
    "\n",
    "lista.sort()"
   ]
  },
  {
   "cell_type": "code",
   "execution_count": 38,
   "metadata": {},
   "outputs": [
    {
     "name": "stdout",
     "output_type": "stream",
     "text": [
      "['IPad', 'airpods', 'apple tv', 'apple watch', 'iphone 11', 'iphone x', 'mac', 'mac book']\n"
     ]
    }
   ],
   "source": [
    "produtos.sort()\n",
    "print(produtos)\n",
    "\n",
    "# OBS : O PYTHON FAZ ORDENAÇÃO DE  SEGUINTE FORMA:\n",
    "# 1- ele prioriza as letras maiúsculas , 2- ordem alfabetos\n",
    "\n",
    "# por isso nesse caso temos IPad em primeiro lugar, depois continuou com ordenaçao normalmente obedecendo ordem alfabética "
   ]
  },
  {
   "cell_type": "code",
   "execution_count": 41,
   "metadata": {},
   "outputs": [
    {
     "name": "stdout",
     "output_type": "stream",
     "text": [
      "['mac book', 'mac', 'iphone x', 'iphone 11', 'apple watch', 'apple tv', 'airpods', 'IPad']\n"
     ]
    }
   ],
   "source": [
    "\n",
    "produtos.sort(reverse=True)\n",
    "print(produtos)"
   ]
  },
  {
   "cell_type": "code",
   "execution_count": 46,
   "metadata": {},
   "outputs": [
    {
     "name": "stdout",
     "output_type": "stream",
     "text": [
      "['airpods', 'apple tv', 'apple watch', 'ipad', 'iphone 11', 'iphone x', 'mac', 'mac book']\n"
     ]
    }
   ],
   "source": [
    "produtos = ['mac', 'apple tv', 'iphone x', 'iphone 11', 'ipad', 'apple watch', 'mac book', 'airpods' ]\n",
    "\n",
    "produtos.sort()\n",
    "print(produtos)\n",
    "\n",
    "# OBS : O PYTHON FAZ ORDENAÇÃO DE  SEGUINTE FORMA:\n",
    "# 1- ele prioriza as letras maiúsculas , 2- ordem alfabetos\n",
    "\n",
    "# agora nesse exemplo teremos a ordenação desejada "
   ]
  }
 ],
 "metadata": {
  "kernelspec": {
   "display_name": "Python 3 (ipykernel)",
   "language": "python",
   "name": "python3"
  },
  "language_info": {
   "codemirror_mode": {
    "name": "ipython",
    "version": 3
   },
   "file_extension": ".py",
   "mimetype": "text/x-python",
   "name": "python",
   "nbconvert_exporter": "python",
   "pygments_lexer": "ipython3",
   "version": "3.12.7"
  }
 },
 "nbformat": 4,
 "nbformat_minor": 4
}
