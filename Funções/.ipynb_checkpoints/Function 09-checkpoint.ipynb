{
 "cells": [
  {
   "cell_type": "markdown",
   "metadata": {},
   "source": [
    "# Mais sobre o return\n",
    "\n",
    "### Pontos importantes:\n",
    "\n",
    "- Podemos usar no return praticamente qualquer tipo de objeto: (número, string, lista, tupla, dicionário, outros objetos, etc.)\n",
    "- O return, se for executado, encerra a função, mesmo que dentro dela haja um loop."
   ]
  },
  {
   "cell_type": "code",
   "execution_count": 27,
   "metadata": {},
   "outputs": [],
   "source": [
    "#retornar um número\n",
    "def minha_soma(num1, num2, num3):\n",
    "    return num1 + num2 + num3\n",
    "\n",
    "#retornar um texto\n",
    "def padronizar_texto(texto):\n",
    "    texto = texto.casefold()\n",
    "    texto = texto.replace(\"  \", \" \")\n",
    "    texto = texto.strip()\n",
    "    return texto\n",
    "\n",
    "#retornar um boolean\n",
    "def bateu_meta(vendas, meta):\n",
    "    if vendas >= meta:\n",
    "        return True\n",
    "    else:\n",
    "        return False\n",
    "    \n"
   ]
  },
  {
   "cell_type": "code",
   "execution_count": 49,
   "metadata": {},
   "outputs": [],
   "source": [
    "#retornar uma lista, tupla ou dicionario\n",
    "def filtrar_lista_texto(lista , pedaco_texto):\n",
    "    lista_filtrada = []\n",
    "    for  email in lista:\n",
    "        if pedaco_texto in email:\n",
    "            lista_filtrada.append(email)\n",
    "    return lista_filtrada\n"
   ]
  },
  {
   "cell_type": "code",
   "execution_count": 58,
   "metadata": {},
   "outputs": [
    {
     "name": "stdout",
     "output_type": "stream",
     "text": [
      "o joao.silva@gmail.com pertence ao servidor ===> gmail\n",
      "o ana.costa@gmail.com pertence ao servidor ===> gmail\n",
      "o lucas.santos@gmail.com pertence ao servidor ===> gmail\n",
      "o patricia.lima@gmail.com pertence ao servidor ===> gmail\n",
      "o fabio.pereira@gmail.com pertence ao servidor ===> gmail\n",
      "o victor.henrique@gmail.com pertence ao servidor ===> gmail\n",
      "o beatriz.alves@gmail.com pertence ao servidor ===> gmail\n",
      "o andre.machado@gmail.com pertence ao servidor ===> gmail\n",
      "o camila.garcia@gmail.com pertence ao servidor ===> gmail\n",
      "o paulo.martins@gmail.com pertence ao servidor ===> gmail\n",
      "o bianca.mendes@gmail.com pertence ao servidor ===> gmail\n",
      "o vinicius.rocha@gmail.com pertence ao servidor ===> gmail\n"
     ]
    }
   ],
   "source": [
    "lista_emails = [\n",
    "    \"joao.silva@gmail.com\",\n",
    "    \"maria.oliveira@hotmail.com\",\n",
    "    \"pedro.souza@yahoo.com\",\n",
    "    \"ana.costa@gmail.com\",\n",
    "    \"carlos.almeida@hotmail.com\",\n",
    "    \"fernanda.monteiro@yahoo.com\",\n",
    "    \"lucas.santos@gmail.com\",\n",
    "    \"juliana.rodrigues@hotmail.com\",\n",
    "    \"marcos.ferreira@yahoo.com\",\n",
    "    \"patricia.lima@gmail.com\",\n",
    "    \"ricardo.barros@hotmail.com\",\n",
    "    \"carolina.martins@yahoo.com\",\n",
    "    \"fabio.pereira@gmail.com\",\n",
    "    \"amanda.silveira@hotmail.com\",\n",
    "    \"rafael.gomes@yahoo.com\",\n",
    "    \"victor.henrique@gmail.com\",\n",
    "    \"luana.santana@hotmail.com\",\n",
    "    \"tiago.lemos@yahoo.com\",\n",
    "    \"beatriz.alves@gmail.com\",\n",
    "    \"renato.pinto@hotmail.com\",\n",
    "    \"claudia.sousa@yahoo.com\",\n",
    "    \"andre.machado@gmail.com\",\n",
    "    \"laura.campos@hotmail.com\",\n",
    "    \"felipe.andrade@yahoo.com\",\n",
    "    \"camila.garcia@gmail.com\",\n",
    "    \"hugo.ferraz@hotmail.com\",\n",
    "    \"sara.azevedo@yahoo.com\",\n",
    "    \"paulo.martins@gmail.com\",\n",
    "    \"mariana.ribeiro@hotmail.com\",\n",
    "    \"igor.teixeira@yahoo.com\",\n",
    "    \"bianca.mendes@gmail.com\",\n",
    "    \"david.oliveira@hotmail.com\",\n",
    "    \"aline.goncalves@yahoo.com\",\n",
    "    \"vinicius.rocha@gmail.com\",\n",
    "    \"isabela.silva@hotmail.com\",\n",
    "    \"rafaela.miranda@yahoo.com\"\n",
    "]\n",
    "\n",
    "\n",
    "provedor = \"gmail\"\n",
    "\n",
    "listas = filtrar_lista_texto(lista_emails, provedor)\n",
    "\n",
    "for i, lista in enumerate(listas):\n",
    "    print(\"o {} pertence ao servidor ===> {}\".format(lista, provedor))\n"
   ]
  }
 ],
 "metadata": {
  "kernelspec": {
   "display_name": "Python 3 (ipykernel)",
   "language": "python",
   "name": "python3"
  },
  "language_info": {
   "codemirror_mode": {
    "name": "ipython",
    "version": 3
   },
   "file_extension": ".py",
   "mimetype": "text/x-python",
   "name": "python",
   "nbconvert_exporter": "python",
   "pygments_lexer": "ipython3",
   "version": "3.12.7"
  }
 },
 "nbformat": 4,
 "nbformat_minor": 4
}
