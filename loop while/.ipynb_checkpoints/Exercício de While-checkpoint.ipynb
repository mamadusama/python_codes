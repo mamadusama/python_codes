{
 "cells": [
  {
   "cell_type": "markdown",
   "metadata": {},
   "source": [
    "# Exercícios\n",
    "\n",
    "## 1. Input até o usuário parar\n",
    "\n",
    "Vamos criar um sistema de vendas. Nosso programa deve registrar os produtos e as quantidades (2 inputs) e adicionar em uma lista.\n",
    "\n",
    "O programa deve continuar rodando até o input ser vazio, ou seja, o usuário apertar enter sem digitar nenhum produto ou quantidade.\n",
    "\n",
    "Ao final do programa, ele deve printar todos os produtos e quantidades vendidas.\n",
    "\n",
    "Obs: Caso queira, para o print ficar mais visual, pode usar o join para cada item ser printado em uma linha.\n",
    "Sugestão para sua lista de produtos vendidos:"
   ]
  },
  {
   "cell_type": "raw",
   "metadata": {},
   "source": [
    "vendas = [\n",
    "    ['maçã', 5],\n",
    "    ['banana', 15],\n",
    "    ['azeite', 1],\n",
    "    ['vinho', 3],\n",
    "]"
   ]
  },
  {
   "cell_type": "code",
   "execution_count": 3,
   "metadata": {},
   "outputs": [
    {
     "name": "stdin",
     "output_type": "stream",
     "text": [
      "iforme o produto  Banana\n",
      "iforme a quantidade  20\n",
      "iforme o produto  Caju\n",
      "iforme a quantidade  10\n",
      "iforme o produto  Pera\n",
      "iforme a quantidade  29\n",
      "iforme o produto  Bebida\n",
      "iforme a quantidade  2\n",
      "iforme o produto  \n"
     ]
    },
    {
     "name": "stdout",
     "output_type": "stream",
     "text": [
      "[['Banana', 20], ['Caju', 10], ['Pera', 29], ['Bebida', 2]]\n"
     ]
    }
   ],
   "source": [
    "#seu código aqui\n",
    "produtos = []\n",
    "\n",
    "while True:\n",
    "    produto = input(\"iforme o produto \")\n",
    "    if not produto:\n",
    "        break\n",
    "    qtde = int(input(\"iforme a quantidade \"))\n",
    "    produtos.append([produto, qtde])\n",
    "\n",
    "\n",
    "print(produtos)"
   ]
  },
  {
   "cell_type": "markdown",
   "metadata": {},
   "source": [
    "### Obs: Podemos fazer o While de 2 maneiras:\n",
    "\n",
    "1. While com a condição que finalize o programa\n",
    "2. While rodando para sempre, mas com uma condição dentro do while que dê um break no código.\n",
    "\n",
    "Vamos mostrar as 2 opções"
   ]
  },
  {
   "cell_type": "code",
   "execution_count": 7,
   "metadata": {},
   "outputs": [
    {
     "name": "stdin",
     "output_type": "stream",
     "text": [
      "iforme o produto  produto 1\n",
      "iforme a quantidade  10\n",
      "iforme o produto  produto 2\n",
      "iforme a quantidade  11\n",
      "iforme o produto  produto 3\n",
      "iforme a quantidade  12\n",
      "iforme o produto  \n"
     ]
    },
    {
     "name": "stdout",
     "output_type": "stream",
     "text": [
      "[['produto 1', 10], ['produto 2', 11], ['produto 3', 12]]\n"
     ]
    }
   ],
   "source": [
    "produtos = []\n",
    "\n",
    "## essa é a outra forma de fazer apesar que é muito redundante, e exige escrever muito codigo.\n",
    "produto = input(\"iforme o produto \")\n",
    "qtde = int(input(\"iforme a quantidade \"))\n",
    "\n",
    "while produto != \"\":\n",
    "    produtos.append([produto, qtde])\n",
    "    produto = input(\"iforme o produto \")\n",
    "    if produto == \"\":\n",
    "        break\n",
    "    qtde = int(input(\"iforme a quantidade \"))\n",
    "\n",
    "\n",
    "print(produtos)"
   ]
  }
 ],
 "metadata": {
  "kernelspec": {
   "display_name": "Python 3 (ipykernel)",
   "language": "python",
   "name": "python3"
  },
  "language_info": {
   "codemirror_mode": {
    "name": "ipython",
    "version": 3
   },
   "file_extension": ".py",
   "mimetype": "text/x-python",
   "name": "python",
   "nbconvert_exporter": "python",
   "pygments_lexer": "ipython3",
   "version": "3.12.7"
  }
 },
 "nbformat": 4,
 "nbformat_minor": 4
}
