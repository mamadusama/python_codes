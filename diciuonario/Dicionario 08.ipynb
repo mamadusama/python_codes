{
 "cells": [
  {
   "cell_type": "markdown",
   "metadata": {},
   "source": [
    "# Transformando Listas em Dicionários e Function zip\n",
    "\n",
    "### Estrutura:\n",
    "\n",
    "- Dicionário com valores padrões:\n",
    "\n",
    "dicionario = dict.fromkeys(lista_chaves, valor_padrao)\n",
    "\n",
    "- Dicionário a partir de listas de tuplas:\n",
    "\n",
    "dicionario = dict(lista_tuplas)\n",
    "\n",
    "- Dicionário a partir de 2 listas:\n",
    "\n",
    "Passo 1: Transformar listas em lista de tuplas com o método zip<br>\n",
    "Passo 2: Transformar em dicionario\n",
    "\n",
    "lista_tuplas = zip(lista1, lista2)<br>\n",
    "dicionario = dict(lista_tuplas)"
   ]
  },
  {
   "cell_type": "code",
   "execution_count": 23,
   "metadata": {},
   "outputs": [
    {
     "name": "stdout",
     "output_type": "stream",
     "text": [
      "{'iphone': 0, 'samsung galaxy': 0, 'tv samsung': 0, 'ps5': 0, 'tablet': 0, 'ipad': 0, 'tv philco': 0, 'notebook hp': 0, 'notebook dell': 0, 'notebook asus': 0}\n",
      "iphone - vendas 15000\n",
      "samsung galaxy - vendas 12000\n",
      "tv samsung - vendas 10000\n",
      "ps5 - vendas 14300\n",
      "tablet - vendas 1720\n",
      "ipad - vendas 1000\n",
      "tv philco - vendas 2500\n",
      "notebook hp - vendas 1000\n",
      "notebook dell - vendas 17000\n",
      "notebook asus - vendas 2450\n"
     ]
    }
   ],
   "source": [
    "produtos = ['iphone', 'samsung galaxy', 'tv samsung', 'ps5', 'tablet', 'ipad', 'tv philco', 'notebook hp', 'notebook dell', 'notebook asus']\n",
    "vendas = [15000, 12000, 10000, 14300, 1720, 1000, 2500, 1000, 17000, 2450]\n",
    " \n",
    "\n",
    "dicionario = dict.fromkeys(produtos, 0)\n",
    "print(dicionario)\n",
    "\n",
    "\n",
    "lista_tuplas = zip(produtos, vendas)\n",
    "#print(lista_tuplas)\n",
    "\n",
    "dicionarios = dict(lista_tuplas)\n",
    "#print(dicionarios)\n",
    "\n",
    "for produto in dicionarios:\n",
    "    print(\"{} - vendas {}\" .format(produto, dicionarios[produto]) )"
   ]
  },
  {
   "cell_type": "markdown",
   "metadata": {},
   "source": [
    "- Quanto vendemos de ipad?"
   ]
  },
  {
   "cell_type": "code",
   "execution_count": 29,
   "metadata": {},
   "outputs": [
    {
     "name": "stdout",
     "output_type": "stream",
     "text": [
      "vendemos 1000 unidades de ipad \n",
      "vendemos 1000 unidades de ipad\n"
     ]
    }
   ],
   "source": [
    "#fazendo por listas\n",
    "\n",
    "# primeiro procuramos o indice desse cara\n",
    "indice = produtos.index(\"ipad\")\n",
    "print(\"vendemos {} unidades de {} \".format(vendas[indice], produtos[indice]))\n",
    "\n",
    "#fazendo por dicionario\n",
    "\n",
    "print(\"vendemos {} unidades de {}\" .format(dicionarios[\"ipad\"], produtos[indice]))"
   ]
  }
 ],
 "metadata": {
  "kernelspec": {
   "display_name": "Python 3 (ipykernel)",
   "language": "python",
   "name": "python3"
  },
  "language_info": {
   "codemirror_mode": {
    "name": "ipython",
    "version": 3
   },
   "file_extension": ".py",
   "mimetype": "text/x-python",
   "name": "python",
   "nbconvert_exporter": "python",
   "pygments_lexer": "ipython3",
   "version": "3.12.7"
  }
 },
 "nbformat": 4,
 "nbformat_minor": 4
}
