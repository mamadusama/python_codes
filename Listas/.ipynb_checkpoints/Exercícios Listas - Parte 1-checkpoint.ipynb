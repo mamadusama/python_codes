{
 "cells": [
  {
   "cell_type": "markdown",
   "metadata": {},
   "source": [
    "# Exercícios\n",
    "\n",
    "## 1. Faturamento do Melhor e do Pior Mês do Ano\n",
    "\n",
    "Qual foi o valor de vendas do melhor mês do Ano?\n",
    "E valor do pior mês do ano?"
   ]
  },
  {
   "cell_type": "code",
   "execution_count": 131,
   "metadata": {},
   "outputs": [
    {
     "name": "stdout",
     "output_type": "stream",
     "text": [
      "[25000, 29000, 22200, 17750, 15870, 19900, 19850, 20120, 17540, 15555, 49051, 9650]\n",
      "maior venda foi de 49051 \n",
      "o pior venda foi de 9650\n"
     ]
    }
   ],
   "source": [
    "meses = ['jan', 'fev', 'mar', 'abr', 'mai', 'jun', 'jul', 'ago', 'set', 'out', 'nov', 'dez']\n",
    "vendas_1sem = [25000, 29000, 22200, 17750, 15870, 19900]\n",
    "vendas_2sem = [19850, 20120, 17540, 15555, 49051, 9650]\n",
    "\n",
    "# para resolver primeiro precisamos juntar valores dessas listas em um só usando função .extend()\n",
    "\n",
    "vendas_1sem.extend(vendas_2sem)\n",
    "print(vendas_1sem)\n",
    "# Agora vamos procurar o maior venda tanto de 1º assim como do 2º semestre\n",
    "\n",
    "maior_venda = max(vendas_1sem)\n",
    "print(\"maior venda foi de {} \".format(maior_venda))\n",
    "\n",
    "# para pior venda segue o mesmo raciocínio \n",
    "pior_venda = min(vendas_1sem)\n",
    "print(\"o pior venda foi de {}\".format(pior_venda))"
   ]
  },
  {
   "cell_type": "markdown",
   "metadata": {},
   "source": [
    "## 2. Continuação\n",
    "\n",
    "Agora relacione as duas listas para printar 'O melhor mês do ano foi {} com {} vendas' e o mesmo para o pior mês do ano.\n",
    "\n",
    "Calcule também o faturamento total do Ano e quanto que o melhor mês representou do faturamento total.\n",
    "\n",
    "Obs: Para o faturamento total, pode usar a função sum(lista) que soma todos os itens de uma lista"
   ]
  },
  {
   "cell_type": "code",
   "execution_count": 133,
   "metadata": {},
   "outputs": [
    {
     "name": "stdout",
     "output_type": "stream",
     "text": [
      "nov\n",
      "dez\n",
      "['nov', 'dez']\n",
      "O melhor mês do ano foi Novembro com 49051 vendas e pior mês do ano foi Dezembro com 9650 vendas.\n",
      "261486\n",
      "O melhor mês representou 19% do faturamento Total\n"
     ]
    }
   ],
   "source": [
    "i = vendas_1sem.index(maior_venda)\n",
    "melhor_mes = meses[i]\n",
    "print(melhor_mes)\n",
    "\n",
    "i = vendas_1sem.index(pior_venda)\n",
    "pior_mes = meses[i]\n",
    "print(pior_mes)\n",
    "estatistica = [melhor_mes] + [pior_mes]\n",
    "\n",
    "print(estatistica)\n",
    "\n",
    "estatistica[0] = \"Novembro\" # original seria apenas nov , mas podemos fazer assim para escrever nome completo\n",
    "estatistica[1] = \"Dezembro\"\n",
    "print('O melhor mês do ano foi {} com {} vendas e pior mês do ano foi {} com {} vendas.'.format(estatistica[0], maior_venda, estatistica[1], pior_venda))\n",
    "\n",
    "faturamento_total = sum(vendas_1sem)\n",
    "print(faturamento_total)\n",
    "\n",
    "percentual =   maior_venda / faturamento_total\n",
    "print(\"O melhor mês representou {:.0%} do faturamento Total\" .format(percentual))\n",
    "\n",
    "# OBS:  lembrando que essa não única forma de fazer , \n",
    "#COLOQUEI AQUELA VARIAVEL ESTATISTICA SÓ PARA FIM DIDATICO, MAS JÁ TINHA VALORES PARA PEGAR"
   ]
  },
  {
   "cell_type": "markdown",
   "metadata": {},
   "source": [
    "## 3. Crie uma lista com o top 3 valores de vendas do ano (sem fazer \"no olho\")\n",
    "\n",
    "Dica: o método remove retira um item da lista."
   ]
  },
  {
   "cell_type": "code",
   "execution_count": 130,
   "metadata": {},
   "outputs": [
    {
     "name": "stdout",
     "output_type": "stream",
     "text": [
      "49051\n",
      "29000\n",
      "25000\n",
      "[49051, 29000, 25000]\n",
      "top 3 valores de vendas do ano são:\n",
      "1º 49051\n",
      "2º 29000\n",
      "3º 25000\n"
     ]
    }
   ],
   "source": [
    "# outra forma de fazer utilizando funçao remove\n",
    "## vendas_1sem -> minhas vendas\n",
    "\n",
    "top3 = []\n",
    "\n",
    "maior_venda = max(vendas_1sem)\n",
    "top3.append(maior_venda)\n",
    "\n",
    "vendas_1sem.remove(maior_venda)\n",
    "\n",
    "print(maior_venda)\n",
    "\n",
    "maior_venda = max(vendas_1sem)\n",
    "top3.append(maior_venda)\n",
    "\n",
    "vendas_1sem.remove(maior_venda)\n",
    "print(maior_venda)\n",
    "\n",
    "\n",
    "maior_venda = max(vendas_1sem)\n",
    "top3.append(maior_venda)\n",
    "print(maior_venda)\n",
    "\n",
    "print(top3)\n",
    "\n",
    "# top3 = [max_top1] + [max_top2] + [max_top3]\n",
    "print(\"top 3 valores de vendas do ano são:\\n1º {}\\n2º {}\\n3º {}\".format(top3[0], top3[1], top3[2]))"
   ]
  },
  {
   "cell_type": "code",
   "execution_count": 106,
   "metadata": {},
   "outputs": [
    {
     "name": "stdout",
     "output_type": "stream",
     "text": [
      "[22200, 17750, 15870, 19900, 19850, 20120, 17540, 15555, 9650]\n"
     ]
    },
    {
     "ename": "IndexError",
     "evalue": "pop index out of range",
     "output_type": "error",
     "traceback": [
      "\u001b[1;31m---------------------------------------------------------------------------\u001b[0m",
      "\u001b[1;31mIndexError\u001b[0m                                Traceback (most recent call last)",
      "Cell \u001b[1;32mIn[106], line 2\u001b[0m\n\u001b[0;32m      1\u001b[0m \u001b[38;5;28mprint\u001b[39m(vendas_1sem)\n\u001b[1;32m----> 2\u001b[0m top1 \u001b[38;5;241m=\u001b[39m vendas_1sem\u001b[38;5;241m.\u001b[39mpop(\u001b[38;5;241m10\u001b[39m)\n\u001b[0;32m      3\u001b[0m \u001b[38;5;28mprint\u001b[39m(\u001b[38;5;124m\"\u001b[39m\u001b[38;5;124mtop 1 de vendas do ano foi \u001b[39m\u001b[38;5;132;01m{}\u001b[39;00m\u001b[38;5;124m \u001b[39m\u001b[38;5;124m\"\u001b[39m\u001b[38;5;241m.\u001b[39mformat(top1))\n\u001b[0;32m      5\u001b[0m maior_venda2 \u001b[38;5;241m=\u001b[39m \u001b[38;5;28mmax\u001b[39m(vendas_1sem)\n",
      "\u001b[1;31mIndexError\u001b[0m: pop index out of range"
     ]
    }
   ],
   "source": [
    "\n",
    "# OBS : COM CERTEZA DESSA FORMA SE FIZEMOS COM FUNÇÃO {REMOVE} PRIMEIRO , \n",
    "#VAI INTERFERIR NOS INDICES AQUI EM BAIXO QUANDO PRETENDEMOS UTILIZAR A FUNÇÃO POP\n",
    "# SE COMENTAR O DE REMOVE E EXECUTAR ESSA VAI TER MESMO RESULTADO COM O REMOVE.\n",
    "\n",
    "\n",
    "print(vendas_1sem)\n",
    "top1 = vendas_1sem.pop(10)\n",
    "print(\"top 1 de vendas do ano foi {} \".format(top1))\n",
    "\n",
    "maior_venda2 = max(vendas_1sem)\n",
    "top2 = vendas_1sem.pop(1)\n",
    "print(\"top 2 de vendas do ano foi {} \".format(top2))\n",
    "\n",
    "top3 = vendas_1sem.pop(0)\n",
    "print(\"top 3 de vendas do ano foi {} \".format(top3))\n",
    "\n",
    "print(\"===============================\")\n",
    "\n",
    "top3 = [top1] + [top2] + [top3]\n",
    "print(top3)"
   ]
  }
 ],
 "metadata": {
  "kernelspec": {
   "display_name": "Python 3 (ipykernel)",
   "language": "python",
   "name": "python3"
  },
  "language_info": {
   "codemirror_mode": {
    "name": "ipython",
    "version": 3
   },
   "file_extension": ".py",
   "mimetype": "text/x-python",
   "name": "python",
   "nbconvert_exporter": "python",
   "pygments_lexer": "ipython3",
   "version": "3.12.7"
  }
 },
 "nbformat": 4,
 "nbformat_minor": 4
}
