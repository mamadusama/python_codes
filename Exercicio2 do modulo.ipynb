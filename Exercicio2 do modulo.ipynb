{
 "cells": [
  {
   "cell_type": "markdown",
   "id": "bb0f9514",
   "metadata": {
    "id": "bb0f9514"
   },
   "source": [
    "# Lista de Estrutura Sequencial"
   ]
  },
  {
   "cell_type": "markdown",
   "id": "4e7a8c30",
   "metadata": {
    "id": "4e7a8c30"
   },
   "source": [
    "#### 1. Faça um Programa que mostre a mensagem (print) \"Alo mundo\" na tela."
   ]
  },
  {
   "cell_type": "code",
   "execution_count": 1,
   "id": "883bfe85",
   "metadata": {
    "id": "883bfe85"
   },
   "outputs": [
    {
     "name": "stdout",
     "output_type": "stream",
     "text": [
      "Olá Mundo\n"
     ]
    }
   ],
   "source": [
    "print(\"Olá Mundo\")"
   ]
  },
  {
   "cell_type": "markdown",
   "id": "71d6d6a2",
   "metadata": {
    "id": "71d6d6a2"
   },
   "source": [
    "#### 2. Faça um Programa que peça um número (input) e então mostre a mensagem: \"O número informado foi [número].\""
   ]
  },
  {
   "cell_type": "code",
   "execution_count": 5,
   "id": "30cfffcf",
   "metadata": {
    "id": "30cfffcf"
   },
   "outputs": [
    {
     "name": "stdin",
     "output_type": "stream",
     "text": [
      "informe um numero 25\n"
     ]
    },
    {
     "name": "stdout",
     "output_type": "stream",
     "text": [
      "O número informado foi 25\n"
     ]
    }
   ],
   "source": [
    "numero = input(\"informe um numero \")\n",
    "print(f\"O número informado foi {numero}\")"
   ]
  },
  {
   "cell_type": "markdown",
   "id": "c5e43160",
   "metadata": {
    "id": "c5e43160"
   },
   "source": [
    "#### 3. Faça um Programa que peça dois números e imprima a soma."
   ]
  },
  {
   "cell_type": "code",
   "execution_count": 7,
   "id": "b0e79590",
   "metadata": {
    "id": "b0e79590"
   },
   "outputs": [
    {
     "name": "stdin",
     "output_type": "stream",
     "text": [
      "informe primeiro numero 20\n",
      "informe segundo numero 25\n"
     ]
    },
    {
     "name": "stdout",
     "output_type": "stream",
     "text": [
      "45\n"
     ]
    }
   ],
   "source": [
    "numero1 = int(input(\"informe primeiro numero\"))\n",
    "numero2 = int(input(\"informe segundo numero\"))\n",
    "soma = numero1 + numero2\n",
    "print(soma)"
   ]
  },
  {
   "cell_type": "markdown",
   "id": "17826987",
   "metadata": {
    "id": "17826987"
   },
   "source": [
    "#### 4. Faça um Programa que peça as 4 notas bimestrais de um aluno e mostre a média de todas as notas."
   ]
  },
  {
   "cell_type": "code",
   "execution_count": 15,
   "id": "23b66762",
   "metadata": {
    "id": "23b66762"
   },
   "outputs": [
    {
     "name": "stdin",
     "output_type": "stream",
     "text": [
      "digite nome do aluno Mamadu Sama\n",
      "informe nota 1 12\n",
      "informe nota 2 12.5\n",
      "informe nota 3 15\n",
      "informe nota 4 20\n"
     ]
    },
    {
     "name": "stdout",
     "output_type": "stream",
     "text": [
      "A média de Mamadu Sama é: 14.875\n"
     ]
    }
   ],
   "source": [
    "aluno = input(\"digite nome do aluno\")\n",
    "nota1 = float(input(\"informe nota 1\"))\n",
    "nota2 = float(input(\"informe nota 2\"))\n",
    "nota3 = float(input(\"informe nota 3\"))\n",
    "nota4 = float(input(\"informe nota 4\"))\n",
    "media = (nota1 + nota2 + nota3 + nota4) / 4\n",
    "print(f\"A média de {aluno} é: {media}\")"
   ]
  },
  {
   "cell_type": "markdown",
   "id": "62d461c5",
   "metadata": {
    "id": "62d461c5"
   },
   "source": [
    "#### 5. Faça um Programa que converta metros para centímetros. Você pode pedir o comprimento em metros para o usuário (input)."
   ]
  },
  {
   "cell_type": "code",
   "execution_count": 21,
   "id": "d642f1ba",
   "metadata": {
    "id": "d642f1ba"
   },
   "outputs": [
    {
     "name": "stdin",
     "output_type": "stream",
     "text": [
      "Informe o valor em metro  10.5\n"
     ]
    },
    {
     "name": "stdout",
     "output_type": "stream",
     "text": [
      "10.5 m = 1050.0cm \n"
     ]
    }
   ],
   "source": [
    "#centímetros = metros x 100.\n",
    "metro = float(input(\"Informe o valor em metro \"))\n",
    "cemtimetro = metro * 100\n",
    "print(f\"{metro} m = {cemtimetro}cm \")"
   ]
  },
  {
   "cell_type": "markdown",
   "id": "f1311697",
   "metadata": {
    "id": "f1311697"
   },
   "source": [
    "#### 6. Faça um Programa que calcule a área de uma sala de um apartamento. Para isso, o seu programa precisa pedir a largura da sala, o comprimento da sala e imprimir a área em m² da sala."
   ]
  },
  {
   "cell_type": "code",
   "execution_count": 23,
   "id": "612ea24b",
   "metadata": {
    "id": "612ea24b"
   },
   "outputs": [
    {
     "name": "stdin",
     "output_type": "stream",
     "text": [
      "qual é a largura da sala?  10\n",
      "qual é a comprimento  da sala?  6\n"
     ]
    },
    {
     "name": "stdout",
     "output_type": "stream",
     "text": [
      "A largura da sala é: 10.0\n",
      "e o Comprimento da sala é 6.0\n",
      "A sala possui 60.0m²\n"
     ]
    }
   ],
   "source": [
    "# largura da sala\n",
    "#comprimento da sala\n",
    "# area em m2 (Area=largura×comprimento)\n",
    "\n",
    "largura = float(input(\"qual é a largura da sala? \"))\n",
    "comprimento = float(input(\"qual é a comprimento  da sala? \"))\n",
    "area = largura * comprimento\n",
    "\n",
    "print(f\"A largura da sala é: {largura}\\ne o Comprimento da sala é {comprimento}\\nA sala possui {area}m²\")\n"
   ]
  },
  {
   "cell_type": "markdown",
   "id": "2a285929",
   "metadata": {
    "id": "2a285929"
   },
   "source": [
    "#### 7. Faça um Programa que pergunte quanto você ganha por hora e o número de horas trabalhadas no mês. Calcule e mostre o total do seu salário no referido mês."
   ]
  },
  {
   "cell_type": "code",
   "execution_count": 27,
   "id": "359e2232",
   "metadata": {
    "id": "359e2232"
   },
   "outputs": [
    {
     "name": "stdin",
     "output_type": "stream",
     "text": [
      "Informe seu nome do funcionario:  Mamadu Sama\n",
      "quanto você ganha por hora ? 10\n",
      "quantas horas trabalhaste nesse mês ? 100\n"
     ]
    },
    {
     "name": "stdout",
     "output_type": "stream",
     "text": [
      "eu ganho 10.0€ por hora\n",
      "Trabalhei 100.0 horas nesse mês.\n",
      "O seu Sálario é: 1000.0€ nesse mês\n"
     ]
    }
   ],
   "source": [
    "funcionario = input(\"Informe seu nome do funcionario: \")\n",
    "ganho_por_hora = float(input(\"quanto você ganha por hora ?\"))\n",
    "hora_trabalado = float(input(\"quantas horas trabalhaste nesse mês ?\"))\n",
    "\n",
    "salario = ganho_por_hora * hora_trabalado  \n",
    "\n",
    "print(f\"eu ganho {ganho_por_hora}€ por hora\\nTrabalhei {hora_trabalado} horas nesse mês.\\nO seu Sálario é: {salario}€ nesse mês\")\n"
   ]
  },
  {
   "cell_type": "markdown",
   "id": "7e2d4615",
   "metadata": {
    "id": "7e2d4615"
   },
   "source": [
    "#### 8. Vamos criar um conversor de temperatura. Faça um Programa que peça a temperatura em graus Fahrenheit, transforme e mostre a temperatura em graus Celsius.\n",
    "$C = \\frac{5}{9}(F-32)$"
   ]
  },
  {
   "cell_type": "code",
   "execution_count": 45,
   "id": "82daf9fd",
   "metadata": {
    "id": "82daf9fd"
   },
   "outputs": [
    {
     "name": "stdin",
     "output_type": "stream",
     "text": [
      "digite a temperatura em Fahrenheit  74\n"
     ]
    },
    {
     "name": "stdout",
     "output_type": "stream",
     "text": [
      "74.0F = 23.3C \n"
     ]
    }
   ],
   "source": [
    "# grau farinheit\n",
    "# grau celcíu\n",
    "# Celsius = (Fahrenheit - 32) / 1.8\n",
    "\n",
    "fahrenhiet = float(input(\"digite a temperatura em Fahrenheit \"))\n",
    "celciu = (fahrenhiet - 32) / 1.8\n",
    "\n",
    "\n",
    "print(f\"{fahrenhiet}F = {celciu:.1f}C \")\n",
    "\n",
    " \n"
   ]
  },
  {
   "cell_type": "markdown",
   "id": "20708b1c",
   "metadata": {
    "id": "20708b1c"
   },
   "source": [
    "#### 9. Faça um Programa que peça a temperatura em graus Celsius, transforme e mostre em graus Fahrenheit.\n",
    "$F = \\frac{9}{5}C + 32$"
   ]
  },
  {
   "cell_type": "code",
   "execution_count": 51,
   "id": "c73cfb38",
   "metadata": {
    "id": "c73cfb38"
   },
   "outputs": [
    {
     "name": "stdin",
     "output_type": "stream",
     "text": [
      "digite a temperatura em Celcius  30\n"
     ]
    },
    {
     "name": "stdout",
     "output_type": "stream",
     "text": [
      "30.0C = 86.0F\n"
     ]
    }
   ],
   "source": [
    "# F = C x 1,8 + 32\n",
    "celcius = float(input(\"digite a temperatura em Celcius \"))\n",
    "fahreneit = celcius * 1.8 + 32\n",
    "print(f\"{celcius}C = {fahreneit}F\")"
   ]
  },
  {
   "cell_type": "markdown",
   "id": "b263a9dc",
   "metadata": {
    "id": "b263a9dc"
   },
   "source": [
    "#### 10. Tendo como dados de entrada a altura (h) de uma pessoa, construa um algoritmo que calcule seu peso ideal, usando a seguinte fórmula:\n",
    "$P = 72,7h - 58$\n",
    "\n",
    "Lembrando que \"algoritmo\" nada mais é do que um programa, como todos os outros que você vem fazendo"
   ]
  },
  {
   "cell_type": "code",
   "execution_count": 61,
   "id": "9a9b8dca",
   "metadata": {
    "id": "9a9b8dca"
   },
   "outputs": [
    {
     "name": "stdin",
     "output_type": "stream",
     "text": [
      "Quanto medes? 190\n"
     ]
    },
    {
     "name": "stdout",
     "output_type": "stream",
     "text": [
      "A sua altura é de 190.0 portanto o seu peso ideal é de 132.0\n"
     ]
    }
   ],
   "source": [
    "altura = float(input(\"Quanto medes?\"))\n",
    "peso = altura - 58\n",
    "print(f\"A sua altura é de {altura} portanto o seu peso ideal é de {peso}\")"
   ]
  },
  {
   "cell_type": "markdown",
   "id": "13bb40d7",
   "metadata": {
    "id": "13bb40d7"
   },
   "source": [
    "#### 11. Tendo como dado de entrada a altura (h) de uma pessoa, construa um algoritmo que calcule seu peso ideal, utilizando as seguintes fórmulas:\n",
    "##### a. Para homens: $P = 72,7h - 58$\n",
    "##### b. Para mulheres: $P = 62,1h - 44,7$"
   ]
  },
  {
   "cell_type": "code",
   "execution_count": 65,
   "id": "bf82dc8c",
   "metadata": {
    "id": "bf82dc8c"
   },
   "outputs": [
    {
     "name": "stdin",
     "output_type": "stream",
     "text": [
      "Quanto medes? 195\n",
      "Quanto medes? 95\n"
     ]
    },
    {
     "name": "stdout",
     "output_type": "stream",
     "text": [
      "O peso ideal sendo Homem é 137.0\n",
      "O peso ideal sendo Mulher é 50.3\n"
     ]
    }
   ],
   "source": [
    "altura_homem = float(input(\"Quanto medes?\"))\n",
    "altura_mulher = float(input(\"Quanto medes?\"))\n",
    "peso_homem = altura_homem - 58\n",
    "peso_mulher = altura_mulher - 44.7\n",
    "print(f\"O peso ideal sendo Homem é {peso_homem}\")\n",
    "print(f\"O peso ideal sendo Mulher é {peso_mulher}\")"
   ]
  },
  {
   "cell_type": "markdown",
   "id": "f208ef89",
   "metadata": {
    "id": "f208ef89"
   },
   "source": [
    "#### 12. Faça um Programa que pergunte quanto você ganha por hora e o número de horas trabalhadas no mês."
   ]
  },
  {
   "cell_type": "code",
   "execution_count": 67,
   "id": "2d5b23e0",
   "metadata": {
    "id": "2d5b23e0"
   },
   "outputs": [
    {
     "name": "stdin",
     "output_type": "stream",
     "text": [
      "quanto você ganha por hora?  45\n",
      "quantas horas você trabalou no mês?  200\n"
     ]
    }
   ],
   "source": [
    "ganhos_por_hora = float(input(\"quanto você ganha por hora? \"))\n",
    "horas = float(input(\"quantas horas você trabalou no mês? \"))"
   ]
  },
  {
   "cell_type": "markdown",
   "id": "607dee3c",
   "metadata": {
    "id": "607dee3c"
   },
   "source": [
    "#####  Calcule o salário bruto (horas * salario por hora)"
   ]
  },
  {
   "cell_type": "code",
   "execution_count": 77,
   "id": "7f80ccbb",
   "metadata": {
    "id": "7f80ccbb"
   },
   "outputs": [
    {
     "name": "stdout",
     "output_type": "stream",
     "text": [
      "O seu salário bruto é de 9000.0\n"
     ]
    }
   ],
   "source": [
    "salario_bruto = horas * ganhos_por_hora\n",
    "print(f\"O seu salário bruto é de {salario_bruto}\")"
   ]
  },
  {
   "cell_type": "markdown",
   "id": "2ed93cb0",
   "metadata": {
    "id": "2ed93cb0"
   },
   "source": [
    "##### Calcule o desconto do IR (11% do salário bruto)"
   ]
  },
  {
   "cell_type": "code",
   "execution_count": 90,
   "id": "3363e22f",
   "metadata": {
    "id": "3363e22f"
   },
   "outputs": [
    {
     "name": "stdout",
     "output_type": "stream",
     "text": [
      "O desconto do IR é de 990.0\n"
     ]
    }
   ],
   "source": [
    "desconto_ir = salario_bruto * 0.11\n",
    "print(f\"O desconto do IR é de {desconto_ir:.1f}\")"
   ]
  },
  {
   "cell_type": "markdown",
   "id": "0994b2c0",
   "metadata": {
    "id": "0994b2c0"
   },
   "source": [
    "##### Calcule o desconto do INSS (8% do salário bruto)"
   ]
  },
  {
   "cell_type": "code",
   "execution_count": 86,
   "id": "748c6088",
   "metadata": {
    "id": "748c6088"
   },
   "outputs": [
    {
     "name": "stdout",
     "output_type": "stream",
     "text": [
      "O desconto do INSS é de 720.0\n"
     ]
    }
   ],
   "source": [
    "desconto_inss = salario_bruto * 0.08\n",
    "print(f\"O desconto do INSS é de {desconto_inss:.1f}\")"
   ]
  },
  {
   "cell_type": "markdown",
   "id": "06e8dae4",
   "metadata": {
    "id": "06e8dae4"
   },
   "source": [
    "##### Calcule o desconto do sindicato (5% do salário bruto)"
   ]
  },
  {
   "cell_type": "code",
   "execution_count": 88,
   "id": "21b95b15",
   "metadata": {
    "id": "21b95b15",
    "scrolled": true
   },
   "outputs": [
    {
     "name": "stdout",
     "output_type": "stream",
     "text": [
      "O desconto do sindicato é de 450.0\n"
     ]
    }
   ],
   "source": [
    "desconto_sindicato = salario_bruto * 0.05\n",
    "print(f\"O desconto do sindicato é de {desconto_sindicato:.1f}\")"
   ]
  },
  {
   "cell_type": "markdown",
   "id": "bb14ce36",
   "metadata": {
    "id": "bb14ce36"
   },
   "source": [
    "##### Calcule o salário líquido (salário bruto - descontos)"
   ]
  },
  {
   "cell_type": "code",
   "execution_count": 100,
   "id": "56317086",
   "metadata": {
    "id": "56317086"
   },
   "outputs": [
    {
     "name": "stdout",
     "output_type": "stream",
     "text": [
      "Salario bruto 9000.0\n",
      "você tem o total dos descontos 2160.0\n",
      "O seu salário líquido é de 6840.0€\n"
     ]
    }
   ],
   "source": [
    "descontos = desconto_ir + desconto_inss + desconto_sindicato\n",
    "salario_liquido = salario_bruto - descontos\n",
    "print(f\"Salario bruto {salario_bruto}\\nvocê tem o total dos descontos {descontos}\\nO seu salário líquido é de {salario_liquido}€\")"
   ]
  },
  {
   "cell_type": "markdown",
   "id": "cfbfcc87",
   "metadata": {
    "id": "cfbfcc87"
   },
   "source": [
    "#### 13. Faça um programa para uma loja de tintas. O programa deverá pedir o tamanho em metros quadrados da área a ser pintada. Considere que a cobertura da tinta é de 1 litro para cada 3 metros quadrados e que a tinta é vendida em latas de 18 litros, que custam R\\$ 80,00. Informe ao usuário a quantidades de latas de tinta a serem compradas e o preço total. (para simplificação nesse momento, não se preocupe em arredondar a quantidade de latas a serem compradas - vamos trabalhar isso em breve)"
   ]
  },
  {
   "cell_type": "code",
   "execution_count": 132,
   "id": "fb6a083b",
   "metadata": {
    "id": "fb6a083b"
   },
   "outputs": [
    {
     "name": "stdin",
     "output_type": "stream",
     "text": [
      "Digite o tamanho da área a ser pintada em metros quadrados:  150\n"
     ]
    },
    {
     "name": "stdout",
     "output_type": "stream",
     "text": [
      "Quantidade de latas de tinta a serem compradas:  3\n",
      "Preço total: 222.22€\n"
     ]
    }
   ],
   "source": [
    "#tamanho em metro ao quadrado da area\n",
    "# para cada 3 metros quadrados 1litro\n",
    "# vendidas em latas de 18 litros\n",
    "# custa 80.00€ por lata\n",
    "# calcule a quantidade de latas serao necessarias \n",
    "# preço total\n",
    "\n",
    "# Solicitar ao usuário o tamanho da área em metros quadrados\n",
    "area = float(input(\"Digite o tamanho da área a ser pintada em metros quadrados: \"))\n",
    "\n",
    "# Definindo as constantes\n",
    "cobertura_por_litro = 3  # metros quadrados por litro\n",
    "litros_por_lata = 18  # litros por lata\n",
    "preco_por_lata = 80.00  # preço por lata em reais\n",
    "\n",
    "# Calcular a quantidade de litros necessários\n",
    "litros_necessarios = area / cobertura_por_litro\n",
    "\n",
    "# Calcular a quantidade de latas necessárias\n",
    "latas_necessarias = litros_necessarios / litros_por_lata\n",
    "\n",
    "# Calcular o preço total\n",
    "preco_total = latas_necessarias * preco_por_lata\n",
    "\n",
    "# Exibir os resultados\n",
    "latas_necessarias_aredonda = round(latas_necessarias)\n",
    "print(f\"Quantidade de latas de tinta a serem compradas:  {latas_necessarias_aredonda}\")\n",
    "print(f\"Preço total: {preco_total:.2f}€\")\n"
   ]
  },
  {
   "cell_type": "markdown",
   "id": "d6503c92",
   "metadata": {
    "id": "d6503c92"
   },
   "source": [
    "#### 14. Faça um programa que peça o tamanho de um arquivo para download (em MB) e a velocidade de um link de Internet (em Mbps), calcule e informe o tempo aproximado de download do arquivo usando este link (em minutos).\n",
    "\n",
    "Detalhe: MB significa megabyte, Mb (com b minúsculo) significa megabit. Um megabit é 1/8 de um megabyte. "
   ]
  },
  {
   "cell_type": "code",
   "execution_count": 134,
   "id": "0563aa62",
   "metadata": {
    "id": "0563aa62"
   },
   "outputs": [
    {
     "name": "stdin",
     "output_type": "stream",
     "text": [
      "Digite o tamanho do arquivo para download (em MB):  74\n",
      "Digite a velocidade do link de Internet (em Mbps):  5\n"
     ]
    },
    {
     "name": "stdout",
     "output_type": "stream",
     "text": [
      "Tempo aproximado de download: 1.97 minutos\n"
     ]
    }
   ],
   "source": [
    "# Solicitar ao usuário o tamanho do arquivo em MB e a velocidade da internet em Mbps\n",
    "tamanho_arquivo_mb = float(input(\"Digite o tamanho do arquivo para download (em MB): \"))\n",
    "velocidade_internet_mbps = float(input(\"Digite a velocidade do link de Internet (em Mbps): \"))\n",
    "\n",
    "# Converter o tamanho do arquivo de MB para Mb\n",
    "tamanho_arquivo_mb = tamanho_arquivo_mb * 8  # 1 MB = 8 Mb\n",
    "\n",
    "# Calcular o tempo de download em segundos\n",
    "tempo_download_segundos = tamanho_arquivo_mb / velocidade_internet_mbps\n",
    "\n",
    "# Converter o tempo de download para minutos\n",
    "tempo_download_minutos = tempo_download_segundos / 60\n",
    "\n",
    "# Exibir o resultado\n",
    "print(f\"Tempo aproximado de download: {tempo_download_minutos:.2f} minutos\")\n",
    "\n",
    "\n",
    "\n"
   ]
  }
 ],
 "metadata": {
  "colab": {
   "provenance": []
  },
  "kernelspec": {
   "display_name": "Python 3 (ipykernel)",
   "language": "python",
   "name": "python3"
  },
  "language_info": {
   "codemirror_mode": {
    "name": "ipython",
    "version": 3
   },
   "file_extension": ".py",
   "mimetype": "text/x-python",
   "name": "python",
   "nbconvert_exporter": "python",
   "pygments_lexer": "ipython3",
   "version": "3.12.7"
  }
 },
 "nbformat": 4,
 "nbformat_minor": 5
}
