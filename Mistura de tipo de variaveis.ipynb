{
 "cells": [
  {
   "cell_type": "markdown",
   "metadata": {},
   "source": [
    "# MISTURAR TIPOS DE VARIAVEIS \n",
    "\n",
    "Misturar tipos de variáveis refere-se à prática de usar diferentes tipos de dados em uma única operação ou expressão. Em Python, por exemplo, você pode ter variáveis do tipo inteiro, float, string, lista, dicionário, entre outros, e, em algumas situações, pode ser necessário combiná-las.\n",
    "\n",
    "Aqui estão alguns pontos importantes sobre misturar tipos de variáveis:\n",
    "\n",
    "1. **Concatenar Strings e Números**: Se você tentar concatenar uma string com um número diretamente, como em `print(\"O valor é \" + 5)`, você receberá um erro, pois Python não permite a concatenação de tipos diferentes sem conversão. Para corrigir isso, você deve converter o número para uma string usando `str()`, como em `print(\"O valor é \" + str(5))`.\n",
    "\n",
    "2. **Operações Aritméticas**: Você pode misturar números inteiros e floats em operações matemáticas, e Python automaticamente converte o inteiro para float. Por exemplo, `5 + 2.0` resultará em `7.0`.\n",
    "\n",
    "3. **Listas e Dicionários**: Você pode ter listas que contêm diferentes tipos de dados, como inteiros, strings e até outras listas. Por exemplo, `minha_lista = [1, \"dois\", 3.0]` é válido em Python.\n",
    "\n",
    "4. **Erros de Tipo**: Misturar tipos de variáveis pode levar a erros se não for feito corretamente. Por exemplo, tentar somar uma string e um número resultará em um `TypeError`.\n",
    "\n",
    "5. **Conversão de Tipos**: Para evitar erros, você pode usar funções de conversão, como `int()`, `float()`, e `str()`, para garantir que as variáveis estejam no tipo correto antes de realizar operações.\n",
    "\n",
    "Misturar tipos de variáveis pode ser útil, mas é importante estar ciente das regras e comportamentos do Python para evitar erros e garantir que seu código funcione como esperado."
   ]
  },
  {
   "cell_type": "code",
   "execution_count": 13,
   "metadata": {},
   "outputs": [
    {
     "name": "stdout",
     "output_type": "stream",
     "text": [
      "O faturamento da loja foi 1000\n"
     ]
    }
   ],
   "source": [
    "faturamento = 1000\n",
    "\n",
    "print(f'O faturamento da loja foi {faturamento}' )"
   ]
  },
  {
   "cell_type": "code",
   "execution_count": 21,
   "metadata": {},
   "outputs": [
    {
     "ename": "TypeError",
     "evalue": "can only concatenate str (not \"int\") to str",
     "output_type": "error",
     "traceback": [
      "\u001b[1;31m---------------------------------------------------------------------------\u001b[0m",
      "\u001b[1;31mTypeError\u001b[0m                                 Traceback (most recent call last)",
      "Cell \u001b[1;32mIn[21], line 3\u001b[0m\n\u001b[0;32m      1\u001b[0m faturamento \u001b[38;5;241m=\u001b[39m \u001b[38;5;241m1000\u001b[39m\n\u001b[1;32m----> 3\u001b[0m \u001b[38;5;28mprint\u001b[39m(\u001b[38;5;124m'\u001b[39m\u001b[38;5;124mO faturamento da loja foi \u001b[39m\u001b[38;5;124m'\u001b[39m \u001b[38;5;241m+\u001b[39m faturamento )\n",
      "\u001b[1;31mTypeError\u001b[0m: can only concatenate str (not \"int\") to str"
     ]
    }
   ],
   "source": [
    "faturamento = 1000\n",
    "\n",
    "print('O faturamento da loja foi ' + faturamento ) # GERA O ERRO -> TypeError\n",
    "\n",
    "#porque você está tentando fazer calculo com string ou seja somar letra com número.\n",
    "# no python o string só pode concaternar com string"
   ]
  },
  {
   "cell_type": "markdown",
   "metadata": {},
   "source": [
    "Uma das formas para evitar esse erro é transformar o nome da variavel para string.\n",
    "\n",
    "\n",
    "e veremos ainda mais outras formas de fazer isso ...."
   ]
  },
  {
   "cell_type": "code",
   "execution_count": 27,
   "metadata": {},
   "outputs": [
    {
     "name": "stdout",
     "output_type": "stream",
     "text": [
      "faturamento é 1000\n",
      "custo é 500\n",
      "O lucro da Loja é 500\n"
     ]
    }
   ],
   "source": [
    "faturamento = 1000\n",
    "custo = 500\n",
    "lucro = faturamento - custo \n",
    "\n",
    "print( \"faturamento é \" + str(faturamento))\n",
    "print(\"custo é \" + str(custo))\n",
    "print(\"O lucro da Loja é \" + str(lucro))"
   ]
  }
 ],
 "metadata": {
  "kernelspec": {
   "display_name": "Python 3 (ipykernel)",
   "language": "python",
   "name": "python3"
  },
  "language_info": {
   "codemirror_mode": {
    "name": "ipython",
    "version": 3
   },
   "file_extension": ".py",
   "mimetype": "text/x-python",
   "name": "python",
   "nbconvert_exporter": "python",
   "pygments_lexer": "ipython3",
   "version": "3.12.7"
  }
 },
 "nbformat": 4,
 "nbformat_minor": 4
}
