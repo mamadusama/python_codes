{
 "cells": [
  {
   "cell_type": "markdown",
   "metadata": {},
   "source": [
    "# Exercícios\n",
    "\n",
    "## 1. Exercício \"menos prático\" para treinar manipulação de dicionário\n",
    "\n",
    "Dessa vez, vamos apenas treinar a manipulação de dicionário. Transforme as listas abaixo em 1 único dicionário no formato:"
   ]
  },
  {
   "cell_type": "raw",
   "metadata": {},
   "source": [
    "dicionario = {\n",
    "    produto: [vendas2019, vendas2020],\n",
    "    produto2: [vendas2019, vendas2020],\n",
    "    produto3: [vendas2019, vendas2020],\n",
    "    ...\n",
    "}"
   ]
  },
  {
   "cell_type": "markdown",
   "metadata": {},
   "source": [
    "- Apesar de parecer \"menos prático\" esse é um procedimento que precisamos nos acostumar a fazer, visto que algumas funções (tema dos próximos módulos) precisam de dicionários para funcionar e saber transformar listas em dicionários (e vice-versa) é uma habilidade muito útil\n",
    "\n",
    "Obs: Lembre do zip para juntar listas.<br>\n",
    "Obs2: Repare que cada item das vendas é na verdade uma lista. Então é provável que você precise fazer esse código em 2 etapas"
   ]
  },
  {
   "cell_type": "code",
   "execution_count": 23,
   "metadata": {},
   "outputs": [
    {
     "name": "stdout",
     "output_type": "stream",
     "text": [
      "[('iphone', (558147, 951642)), ('galaxy', (712350, 244295)), ('ipad', (573823, 26964)), ('tv', (405252, 787604)), ('máquina de café', (718654, 867660)), ('kindle', (531580, 78830)), ('geladeira', (973139, 710331)), ('adega', (892292, 646016)), ('notebook dell', (422760, 694913)), ('notebook hp', (154753, 539704)), ('notebook asus', (887061, 324831)), ('microsoft surface', (438508, 667179)), ('webcam', (237467, 295633)), ('caixa de som', (489705, 725316)), ('microfone', (328311, 644622)), ('câmera canon', (591120, 994303))]\n",
      "----------------------------------------------------------------------------------------------------\n",
      "O iphone vendeu 558147 unidades  em 2019 e 951642 unidades em 2020 , com isso tem 71% de crecimento\n",
      "O tv vendeu 405252 unidades  em 2019 e 787604 unidades em 2020 , com isso tem 94% de crecimento\n",
      "O máquina de café vendeu 718654 unidades  em 2019 e 867660 unidades em 2020 , com isso tem 21% de crecimento\n",
      "O notebook dell vendeu 422760 unidades  em 2019 e 694913 unidades em 2020 , com isso tem 64% de crecimento\n",
      "O notebook hp vendeu 154753 unidades  em 2019 e 539704 unidades em 2020 , com isso tem 249% de crecimento\n",
      "O microsoft surface vendeu 438508 unidades  em 2019 e 667179 unidades em 2020 , com isso tem 52% de crecimento\n",
      "O webcam vendeu 237467 unidades  em 2019 e 295633 unidades em 2020 , com isso tem 24% de crecimento\n",
      "O caixa de som vendeu 489705 unidades  em 2019 e 725316 unidades em 2020 , com isso tem 48% de crecimento\n",
      "O microfone vendeu 328311 unidades  em 2019 e 644622 unidades em 2020 , com isso tem 96% de crecimento\n",
      "O câmera canon vendeu 591120 unidades  em 2019 e 994303 unidades em 2020 , com isso tem 68% de crecimento\n"
     ]
    }
   ],
   "source": [
    "produtos = ['iphone', 'galaxy', 'ipad', 'tv', 'máquina de café', 'kindle', 'geladeira', 'adega', 'notebook dell', 'notebook hp', 'notebook asus', 'microsoft surface', 'webcam', 'caixa de som', 'microfone', 'câmera canon']\n",
    "vendas2019 = [558147,712350,573823,405252,718654,531580,973139,892292,422760,154753,887061,438508,237467,489705,328311,591120]\n",
    "vendas2020 = [951642,244295,26964,787604,867660,78830,710331,646016,694913,539704,324831,667179,295633,725316,644622,994303]\n",
    "\n",
    "#seu código aqui\n",
    "\n",
    "vendas = list(zip(vendas2019, vendas2020))\n",
    "produto = list(zip(produtos ,vendas))\n",
    "\n",
    "print(produto)\n",
    "print(\"--\" * 50)\n",
    "\n",
    "# quais sao produtos com mais vendas em 2020 do que 2019 , e qual é crecimento em  porcentagem \n",
    "for item  in produto:\n",
    "    #print(item)\n",
    "    nome_produto, (venda_2019, venda_2020) = item\n",
    "    if venda_2020 > venda_2019:\n",
    "        crecimento = venda_2020 / venda_2019   - 1\n",
    "        print(\"O {} vendeu {} unidades  em 2019 e {} unidades em 2020 , com isso tem {:.0%} de crecimento\" .format(nome_produto, venda_2019, venda_2020, crecimento))\n",
    "    \n",
    "\n",
    "#print(vendas)\n",
    "#print(produto)\n"
   ]
  }
 ],
 "metadata": {
  "kernelspec": {
   "display_name": "Python 3 (ipykernel)",
   "language": "python",
   "name": "python3"
  },
  "language_info": {
   "codemirror_mode": {
    "name": "ipython",
    "version": 3
   },
   "file_extension": ".py",
   "mimetype": "text/x-python",
   "name": "python",
   "nbconvert_exporter": "python",
   "pygments_lexer": "ipython3",
   "version": "3.12.7"
  }
 },
 "nbformat": 4,
 "nbformat_minor": 4
}
