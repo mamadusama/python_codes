{
 "cells": [
  {
   "cell_type": "markdown",
   "id": "983c8b89-ae5f-44b2-a0a9-ccd357029325",
   "metadata": {},
   "source": [
    "# INPUT EM PYTHON  "
   ]
  },
  {
   "cell_type": "markdown",
   "id": "2662e566-20ce-49fd-95a0-5d8cbeb632c0",
   "metadata": {},
   "source": [
    "Nessa aula vamos referir o input em python\n",
    "\n",
    "O que é input em python e para que serve?"
   ]
  },
  {
   "cell_type": "markdown",
   "id": "24e78659-c07d-4765-9b11-0fe110d83887",
   "metadata": {},
   "source": [
    "Em Python, `input` é uma função que permite ao programa receber dados do usuário durante a execução. Essa função é fundamental para interagir com o usuário, permitindo que ele forneça informações que podem ser utilizadas no programa.\n",
    "\n",
    "### Como funciona:\n",
    "\n",
    "- **Uso básico**: A função `input()` exibe uma mensagem (opcional) no console e aguarda que o usuário digite algo. Quando o usuário pressiona Enter, o que foi digitado é retornado como uma string.\n",
    "\n",
    "### Exemplo:\n"
   ]
  },
  {
   "cell_type": "code",
   "execution_count": 13,
   "id": "09be5af1-32a6-4053-b0d4-f0c53023dd90",
   "metadata": {},
   "outputs": [
    {
     "name": "stdin",
     "output_type": "stream",
     "text": [
      "Digite seu nome:  Mamadu Sama\n"
     ]
    },
    {
     "name": "stdout",
     "output_type": "stream",
     "text": [
      "Olá, Mamadu Sama!\n"
     ]
    }
   ],
   "source": [
    "nome = input(\"Digite seu nome: \")\n",
    "print(\"Olá, \" + nome + \"!\")"
   ]
  },
  {
   "cell_type": "markdown",
   "id": "8200712d-67f7-4852-a337-e5c972d453f3",
   "metadata": {},
   "source": [
    "\n",
    "### Para que serve:\n",
    "\n",
    "1. **Interatividade**: Permite que o programa se torne interativo, recebendo informações diretamente do usuário.\n",
    "\n",
    "2. **Personalização**: Os usuários podem fornecer dados que personalizam a execução do programa, como nomes, números, ou qualquer outra informação necessária.\n",
    "\n",
    "3. **Coleta de Dados**: É útil em aplicações que precisam coletar dados do usuário, como formulários, jogos, ou qualquer tipo de software que exija entrada do usuário.\n",
    "\n",
    "Em resumo, a função `input` é uma ferramenta essencial em Python para criar programas interativos e dinâmicos."
   ]
  }
 ],
 "metadata": {
  "kernelspec": {
   "display_name": "Python 3 (ipykernel)",
   "language": "python",
   "name": "python3"
  },
  "language_info": {
   "codemirror_mode": {
    "name": "ipython",
    "version": 3
   },
   "file_extension": ".py",
   "mimetype": "text/x-python",
   "name": "python",
   "nbconvert_exporter": "python",
   "pygments_lexer": "ipython3",
   "version": "3.12.7"
  }
 },
 "nbformat": 4,
 "nbformat_minor": 5
}
