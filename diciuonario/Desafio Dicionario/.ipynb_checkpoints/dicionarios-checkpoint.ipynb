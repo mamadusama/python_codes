{
 "cells": [
  {
   "cell_type": "markdown",
   "metadata": {},
   "source": [
    "### Exercício 1\n",
    "Crie um sistema de consulta de preços\n",
    "Seu sistema deve:\n",
    "- Pedir para o usuário o nome de um produto\n",
    "- Caso o produto exista na lista de produtos, o programa deve retornar o preço do produto como resposta\n",
    "       - Ex: O produto celular custa R$1500\n",
    "- Caso o produto não exista na lista de produtos, o programa deve printar uma mensagem para o usuário tentar novamente\n"
   ]
  },
  {
   "cell_type": "code",
   "execution_count": 52,
   "metadata": {},
   "outputs": [
    {
     "name": "stdin",
     "output_type": "stream",
     "text": [
      "qual produto deseja consultar?  Celular\n"
     ]
    },
    {
     "name": "stdout",
     "output_type": "stream",
     "text": [
      "O celular custa 1500€\n"
     ]
    }
   ],
   "source": [
    "precos = {\"celular\": 1500, \"camera\": 1000, \"fone de ouvido\": 800, \"monitor\": 2000}\n",
    "\n",
    "produto = input(\"qual produto deseja consultar? \")\n",
    "produto = produto.lower()\n",
    "if produto in precos:\n",
    "    print(\"O {} custa {:.0f}€\".format(produto, precos[produto]))\n",
    "else:\n",
    "    print(\"Ops! algo deu mal não conseguimos encontrar {} na nossa lista dos produtos.\" .format(produto))"
   ]
  },
  {
   "cell_type": "markdown",
   "metadata": {},
   "source": [
    "\n",
    "### Exercício 2\n",
    "Agora edite o programa anterior para fazer com que, caso não exista o produto, o programa pergunte se o usuário quer cadastrar o produto\n",
    "<br>Se ele responder sim, o programa deve pedir o nome do produto e o preco do produto e cadastrar no dicionário de preços\n",
    "<br>Em seguida do cadastro bem sucedido, o programa deve printar o dicionário de precos atualizado\n"
   ]
  },
  {
   "cell_type": "code",
   "execution_count": 57,
   "metadata": {},
   "outputs": [
    {
     "name": "stdin",
     "output_type": "stream",
     "text": [
      "qual produto deseja consultar?  maçã\n",
      "voce deseja cadastrar o produto?  sim\n",
      "informe nome do produto:  MAÇÃ\n",
      "digite preço:  12344300\n"
     ]
    },
    {
     "name": "stdout",
     "output_type": "stream",
     "text": [
      "Produto cadastrado com sucesso!\n",
      "{'celular': 1500, 'camera': 1000, 'fone de ouvido': 800, 'monitor': 2000, 'Papa': 12000, 'maçã': 12344300}\n"
     ]
    }
   ],
   "source": [
    "\n",
    "produto = input(\"qual produto deseja consultar? \")\n",
    "produto = produto.lower()\n",
    "if produto in precos:\n",
    "    print(\"O {} custa {:.0f}€\".format(produto, precos[produto]))\n",
    "else:\n",
    "    pergunta = input(\"voce deseja cadastrar o produto? \")\n",
    "    if pergunta.lower() == \"sim\":\n",
    "        novo_produto = input(\"informe nome do produto: \")\n",
    "        novo_produto = novo_produto.lower()\n",
    "        novo_preco = input(\"digite preço: \")\n",
    "        \n",
    "        # Verifica se o preço foi informado e se é um número\n",
    "        if novo_preco.isdigit():\n",
    "            novo_preco = int(novo_preco)\n",
    "            \n",
    "            precos[novo_produto] = novo_preco\n",
    "            print(\"Produto cadastrado com sucesso!\")\n",
    "            print(precos)\n",
    "        else:\n",
    "            print(\"Preço inválido. O cadastro foi cancelado.\")\n",
    "    \n",
    "    elif pergunta == \"\" or (pergunta != \"sim\" and novo_produto == \"\" and novo_preco == \"\"):\n",
    "        print(\"O programa foi fechado por sua vontade!\")\n",
    "\n",
    "            \n",
    "           \n",
    "        \n",
    "   "
   ]
  },
  {
   "cell_type": "markdown",
   "metadata": {},
   "source": [
    "### Exercício 3\n",
    "Dada a lista de preços de produtos, uma loja resolveu fazer um reajuste nos preços dos produtos. \n",
    "calcule o novo valor dos produtos com base nas seguintes regras:\n",
    "- Preços até 1.000 vão ter um reajuste de 10% (ou seja, o novo preço será 110% do preço atual)\n",
    "- Preços até maiores que 1.000 até 2.000 vão ter reajuste de 15%\n",
    "- Preços acima de 2.000 vão ter reajuste de 20%"
   ]
  },
  {
   "cell_type": "code",
   "execution_count": 108,
   "metadata": {},
   "outputs": [
    {
     "name": "stdout",
     "output_type": "stream",
     "text": [
      "celular agora tem o acrescimo de: 1724.9999999999998\n",
      "camera agora tem o acrescimo de: 1100.0\n",
      "fone de ouvido agora tem o acrescimo de: 880.0000000000001\n",
      "monitor agora tem o acrescimo de: 3600.0\n"
     ]
    }
   ],
   "source": [
    "precos = {\"celular\": 1500, \"camera\": 1000, \"fone de ouvido\": 800, \"monitor\": 3000}\n",
    "\n",
    "for produto  in precos:\n",
    "    \n",
    "    if precos[produto] <= 1000:\n",
    "        novo_valor = precos[produto] * 1.10\n",
    "        precos[produto] = novo_valor\n",
    "        print(\"{} agora tem o acrescimo de: {}\" .format(produto, precos[produto]))\n",
    "        \n",
    "    elif precos[produto] <= 2000:\n",
    "        novo_valor = precos[produto] * 1.15\n",
    "        precos[produto] = novo_valor\n",
    "        print(\"{} agora tem o acrescimo de: {}\" .format(produto, precos[produto]))\n",
    "       \n",
    "    else:\n",
    "       \n",
    "        novo_valor = precos[produto] * 1.20\n",
    "        precos[produto] = novo_valor\n",
    "        print(\"{} agora tem o acrescimo de: {}\" .format(produto, precos[produto]))\n",
    "       \n",
    "     \n",
    "\n"
   ]
  },
  {
   "cell_type": "markdown",
   "metadata": {},
   "source": [
    "### Exercício 4\n",
    " - Edite o programa antigo para ter os 2 dicionários, o de preços originais e o de novos preços\n",
    " - Em seguida calcule o valor total de reajuste em R$ que teve entre a lista de produtos original e a lista final\n"
   ]
  },
  {
   "cell_type": "code",
   "execution_count": null,
   "metadata": {},
   "outputs": [],
   "source": []
  },
  {
   "cell_type": "markdown",
   "metadata": {},
   "source": [
    "\n",
    "### Exercício 5\n",
    "- Uma empresa está analisando os resultados de vendas do 1º semestre de 2022 e 2023\n",
    "- Qual foi o % de crescimento de cada mês de 2023 em relação a 2022?\n",
    "- Depois de calcular isso, calcule o valor total de crescimento de 2023 em relação a 2022"
   ]
  },
  {
   "cell_type": "code",
   "execution_count": null,
   "metadata": {},
   "outputs": [],
   "source": [
    "vendas_22 = {\"jan\": 15000, \"fev\": 15500, \"mar\": 14000, \"abr\": 16600, \"mai\": 16300, \"jun\": 17000}\n",
    "vendas_23 = {\"jan\": 17000, \"fev\": 15000, \"mar\": 17500, \"abr\": 16900, \"mai\": 16000, \"jun\": 18500}"
   ]
  },
  {
   "cell_type": "markdown",
   "metadata": {},
   "source": [
    "### Exercício 6 - Desafio\n",
    "- No final da reunião de apresentação dos números, seu chefe perguntou:\n",
    "- E se nos meses de 2023 que a gente vendeu menos do que 2022 a gente tivesse pelo menos empatado com 2022 (ou seja, se nos meses de 2023 em que as vendas foram menores do que o mesmo mês em 2022, o valor de vendas tivesse sido igual a 2022)\n",
    "- Qual teria sido o nosso crescimento de 2023 frente a 2022?"
   ]
  },
  {
   "cell_type": "code",
   "execution_count": null,
   "metadata": {},
   "outputs": [],
   "source": []
  }
 ],
 "metadata": {
  "kernelspec": {
   "display_name": "Python 3 (ipykernel)",
   "language": "python",
   "name": "python3"
  },
  "language_info": {
   "codemirror_mode": {
    "name": "ipython",
    "version": 3
   },
   "file_extension": ".py",
   "mimetype": "text/x-python",
   "name": "python",
   "nbconvert_exporter": "python",
   "pygments_lexer": "ipython3",
   "version": "3.12.7"
  }
 },
 "nbformat": 4,
 "nbformat_minor": 4
}
