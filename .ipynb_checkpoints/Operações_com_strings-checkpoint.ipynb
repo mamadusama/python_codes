{
 "cells": [
  {
   "cell_type": "markdown",
   "id": "8011561b-5269-4937-8807-fb9890e1d307",
   "metadata": {},
   "source": [
    "**Operações com strings**"
   ]
  },
  {
   "cell_type": "code",
   "execution_count": 6,
   "id": "6ffdf29d-ba99-4baa-ab93-82deec28c9e5",
   "metadata": {},
   "outputs": [
    {
     "name": "stdout",
     "output_type": "stream",
     "text": [
      "Meu nome é Mamadu\n"
     ]
    }
   ],
   "source": [
    "#concaternar ou seja juntar\n",
    "\n",
    "print(\"Meu nome é \" + \"Mamadu\")"
   ]
  },
  {
   "cell_type": "code",
   "execution_count": 10,
   "id": "41a90d76-5ef9-45e0-97a9-0d83afeea0e1",
   "metadata": {},
   "outputs": [
    {
     "name": "stdout",
     "output_type": "stream",
     "text": [
      "False\n"
     ]
    }
   ],
   "source": [
    "#operação in \n",
    "#esse operação verifica se um texto existe dentro do outro , ou seja se um conjunto de texto contém um texto\n",
    "\n",
    "print(\"Meu nome é\" in  \"Mamadu Sama\")\n",
    "\n",
    "#isso quer dizer se o Meu nome é está (in) dentro do Mamadu Sama. se está retorna=true caso contrário retorna=false"
   ]
  },
  {
   "cell_type": "code",
   "execution_count": 14,
   "id": "fa7874c0-86e5-4b45-bde3-46578559c6f2",
   "metadata": {},
   "outputs": [
    {
     "name": "stdout",
     "output_type": "stream",
     "text": [
      "True\n"
     ]
    }
   ],
   "source": [
    "# exemplo 2 para caso de True\n",
    "print(\"M\" in \"Mamadu Sama\")\n",
    "\n",
    "# nesse caso Vai ser True, porque a Letra M está no String Mamadu Sama"
   ]
  },
  {
   "cell_type": "code",
   "execution_count": 18,
   "id": "5a6f6446-6d06-4000-884f-f256a0776671",
   "metadata": {},
   "outputs": [
    {
     "name": "stdout",
     "output_type": "stream",
     "text": [
      "False\n"
     ]
    }
   ],
   "source": [
    "# o outro caso em que pode dar False mesmo que a palavra contém o texto indicado.\n",
    "# é false porque realmente o (in) nesse caso faz a verificação  Case Sensitive , ou seja faz verificação de Maiúscula e Minúscula\n",
    "\n",
    "print(\"D\" in \"Mamadu\") # saída -> False "
   ]
  },
  {
   "cell_type": "code",
   "execution_count": null,
   "id": "b9930783-f349-4cb6-ab59-062bbca8f53f",
   "metadata": {},
   "outputs": [],
   "source": []
  }
 ],
 "metadata": {
  "kernelspec": {
   "display_name": "Python 3 (ipykernel)",
   "language": "python",
   "name": "python3"
  },
  "language_info": {
   "codemirror_mode": {
    "name": "ipython",
    "version": 3
   },
   "file_extension": ".py",
   "mimetype": "text/x-python",
   "name": "python",
   "nbconvert_exporter": "python",
   "pygments_lexer": "ipython3",
   "version": "3.12.7"
  }
 },
 "nbformat": 4,
 "nbformat_minor": 5
}
