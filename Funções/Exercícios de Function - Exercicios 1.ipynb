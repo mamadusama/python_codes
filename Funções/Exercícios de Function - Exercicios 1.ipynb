{
 "cells": [
  {
   "cell_type": "markdown",
   "metadata": {},
   "source": [
    "# Exercícios\n",
    "\n",
    "Para fazer um treino simples antes de avançarmos em mais functions, vamos criar uma function que resolve 1 \"desafio simples\"\n",
    "\n",
    "## 1. Function para Cálculo de Carga Tributária\n",
    "\n",
    "(Lembrando, não se atente ao funcionamento real da carga tributária, é apenas um exemplo imaginário para treinarmos as functions com algo mais prático)\n",
    "\n",
    "Imagine que você trabalha no setor contábil de uma grande empresa de Varejo. \n",
    "\n",
    "Crie uma function que calcule qual o % de carga tributária que está sendo aplicado sobre um determinado produto, dado o preço de venda, o \"lucro\" e os custos (com exceção do imposto) dele."
   ]
  },
  {
   "cell_type": "code",
   "execution_count": 12,
   "metadata": {},
   "outputs": [],
   "source": [
    "preco = 1500\n",
    "custo = 400\n",
    "lucro = 800\n",
    "\n"
   ]
  },
  {
   "cell_type": "markdown",
   "metadata": {},
   "source": [
    "Repare que preço - custo não é igual ao lucro, porque ainda foi descontado o imposto. Sua functiona deve calcular qual foi o % de imposto aplicado sobre o preço total."
   ]
  },
  {
   "cell_type": "code",
   "execution_count": 13,
   "metadata": {},
   "outputs": [
    {
     "name": "stdout",
     "output_type": "stream",
     "text": [
      "300\n"
     ]
    }
   ],
   "source": [
    "#crie sua function aqui\n",
    "\n",
    "#carga tributaria ?\n",
    "# venda = 1500 -> (preco)\n",
    "# custo = 400\n",
    "# lucro = 800\n",
    "imposto = preco - custo - lucro\n",
    "print(imposto)\n",
    "\n",
    "def calcular_carga_triburaria(preco, custo, lucro):\n",
    "    # imposto = preco - custo - lucro\n",
    "    # return imposto / preco\n",
    "    return imposto / preco"
   ]
  },
  {
   "cell_type": "code",
   "execution_count": 14,
   "metadata": {},
   "outputs": [
    {
     "name": "stdout",
     "output_type": "stream",
     "text": [
      "o imposto aplicado foi de : 20.0%\n"
     ]
    }
   ],
   "source": [
    "#aplique sua function nos valores fornecidos para ver se ela está funcionando corretamente\n",
    "carga = calcular_carga_triburaria(preco, custo, lucro)\n",
    "print(f\"o imposto aplicado foi de : {carga :.1%}\")"
   ]
  }
 ],
 "metadata": {
  "kernelspec": {
   "display_name": "Python 3 (ipykernel)",
   "language": "python",
   "name": "python3"
  },
  "language_info": {
   "codemirror_mode": {
    "name": "ipython",
    "version": 3
   },
   "file_extension": ".py",
   "mimetype": "text/x-python",
   "name": "python",
   "nbconvert_exporter": "python",
   "pygments_lexer": "ipython3",
   "version": "3.12.7"
  }
 },
 "nbformat": 4,
 "nbformat_minor": 4
}
