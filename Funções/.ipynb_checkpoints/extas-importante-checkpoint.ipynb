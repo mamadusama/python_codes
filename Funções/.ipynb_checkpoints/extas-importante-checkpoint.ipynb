{
 "cells": [
  {
   "cell_type": "markdown",
   "id": "f7dfce17-90b9-48c4-a0dc-f91eb3a549d4",
   "metadata": {},
   "source": [
    "## dua Formas de passar parametros para função\n",
    "\n",
    "#### OBS: os parametros podem passar-se a uma função de duas formas:\n",
    "- Por Valor\n",
    "- Por referencia\n",
    "\n",
    "  \n",
    "  * Na passagem por valor , é criada uma cópia local da variavel, dentro da função, pelo que as alteraçoes realizadas, dentro da funçao ,<br>não afetarão o valor fora da mesma (variavel) fora da funçao.\n",
    "  * Na passagem por  referencia, a variavel é tratada diretamente, pelo que as alteraçoes realizadas dentro da função,<br> afeta a mesma também fora da funçao.\n",
    "  - Tradicionalmente os tipos simples (inteiros, flutuantes, cadeias, logicos) são automaticamente passadas por :\n",
    "     * ### VALOR.\n",
    "  - E  os compostos (listas, dicionarios, conjuntos) são passados por:\n",
    "      *  ### REFERENCIA."
   ]
  },
  {
   "cell_type": "markdown",
   "id": "67e382f0-14a5-4a62-ac32-33f4391e8356",
   "metadata": {},
   "source": [
    "## Aqui vemos um exemplo de passagrm por valor"
   ]
  },
  {
   "cell_type": "code",
   "execution_count": 6,
   "id": "b02e2daf-d8fe-444d-ac3c-2dbd6dbd11fe",
   "metadata": {},
   "outputs": [
    {
     "name": "stdout",
     "output_type": "stream",
     "text": [
      "10\n"
     ]
    }
   ],
   "source": [
    "def dobrar_valor(numero):\n",
    "    numero *= 2\n",
    "\n",
    "n = 10\n",
    "dobrar_valor(n)\n",
    "print(n)"
   ]
  },
  {
   "cell_type": "code",
   "execution_count": 5,
   "id": "11a08421-40ca-41df-a1f9-ecf7adb927e9",
   "metadata": {},
   "outputs": [
    {
     "name": "stdout",
     "output_type": "stream",
     "text": [
      "10\n"
     ]
    }
   ],
   "source": [
    "def dobrar_valor(numero):\n",
    "    numero *= 2\n",
    "\n",
    "# apesar do atributo \"numero\" ser igual ao da funçao internamente um pertence ao corpo de função \n",
    "# e outro é uma variavel global.\n",
    "\n",
    "numero = 10 # variavel global\n",
    "dobrar_valor(numero)\n",
    "print(numero)"
   ]
  },
  {
   "cell_type": "markdown",
   "id": "de9f9c8b-dda2-4601-a0a3-80596ddf687e",
   "metadata": {},
   "source": [
    " ## Exemplo de passagem de parametro por Referencia"
   ]
  },
  {
   "cell_type": "code",
   "execution_count": 43,
   "id": "e89b2e05-1b74-4dad-91d8-9bf06c95e4b1",
   "metadata": {},
   "outputs": [
    {
     "name": "stdout",
     "output_type": "stream",
     "text": [
      "Elemento 0 da lista é:  10\n",
      "Elemento 1 da lista é:  100\n",
      "Elemento 2 da lista é:  50\n",
      "[20, 200, 100]\n"
     ]
    }
   ],
   "source": [
    "\n",
    "\n",
    "def dobrar_valores(numeros):\n",
    "    \n",
    "    for i , numero in enumerate(numeros):\n",
    "        \n",
    "        print(\"Elemento\", i , \"da lista é: \" , numero)\n",
    "        numeros[i] *=2\n",
    "\n",
    "lista_de_numeros = [10, 100, 50]\n",
    "dobrar_valores(lista_de_numeros)\n",
    "\n",
    "print(lista_de_numeros)"
   ]
  },
  {
   "cell_type": "code",
   "execution_count": null,
   "id": "fa2f1378-86b7-493b-9f24-03d74cc3e34b",
   "metadata": {},
   "outputs": [],
   "source": []
  }
 ],
 "metadata": {
  "kernelspec": {
   "display_name": "Python 3 (ipykernel)",
   "language": "python",
   "name": "python3"
  },
  "language_info": {
   "codemirror_mode": {
    "name": "ipython",
    "version": 3
   },
   "file_extension": ".py",
   "mimetype": "text/x-python",
   "name": "python",
   "nbconvert_exporter": "python",
   "pygments_lexer": "ipython3",
   "version": "3.12.7"
  }
 },
 "nbformat": 4,
 "nbformat_minor": 5
}
