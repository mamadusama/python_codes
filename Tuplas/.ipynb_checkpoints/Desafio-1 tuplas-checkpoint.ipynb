{
 "cells": [
  {
   "cell_type": "markdown",
   "id": "234d0810-e446-4cba-84c6-08063d6de803",
   "metadata": {},
   "source": [
    "# DESAFIO DE TUPLAS - ANALIZANDO VENDAS ECOMMERCE \n"
   ]
  },
  {
   "cell_type": "code",
   "execution_count": 12,
   "id": "f24ce267-a9b5-4abb-a696-df4744b3aa46",
   "metadata": {},
   "outputs": [],
   "source": [
    "dados_ecommerce = [\n",
    "    \n",
    "    (101, \"Smartphone\", \"Eletrônicos\", 50, 1500.00),\n",
    "    (102, \"Notebook\", \"Eletrônicos\", 30, 3500.00),\n",
    "    (103, \"Fone de Ouvido\", \"Acessórios\", 200, 200.00),\n",
    "    (104, \"Camiseta\", \"Vestuário\", 150, 50.00),\n",
    "    (105, \"Tênis Esportivo\", \"Calçados\", 80, 250.00),\n",
    "    (106, \"Smartwatch\", \"Eletrônicos\", 45, 800.00),\n",
    "    (107, \"Mochila\", \"Acessórios\", 120, 120.00),\n",
    "    (108, \"Livro de Programação\", \"Livros\", 300, 75.00),\n",
    "    (109, \"Mesa de Escritório\", \"Móveis\", 20, 500.00),\n",
    "    (110, \"Cadeira Gamer\", \"Móveis\", 15, 1200.00),\n",
    "    (111, \"Impressora\", \"Eletrônicos\", 25, 650.00),\n",
    "    (112, \"Mouse Gamer\", \"Acessórios\", 180, 150.00),\n",
    "    (113, \"Teclado Mecânico\", \"Acessórios\", 95, 300.00),\n",
    "    (114, \"Jaqueta\", \"Vestuário\", 70, 200.00),\n",
    "    (115, \"Bicicleta\", \"Esportes\", 10, 2500.00),\n",
    "    (116, \"Bola de Futebol\", \"Esportes\", 90, 80.00),\n",
    "    (117, \"Relógio de Pulso\", \"Acessórios\", 40, 400.00),\n",
    "    (118, \"Blusa de Frio\", \"Vestuário\", 60, 120.00),\n",
    "    (119, \"Sofá 3 Lugares\", \"Móveis\", 5, 3000.00),\n",
    "    (120, \"Geladeira\", \"Eletrodomésticos\", 8, 4500.00),\n",
    "    (121, \"Micro-ondas\", \"Eletrodomésticos\", 22, 700.00),\n",
    "    (122, \"Fogão 4 Bocas\", \"Eletrodomésticos\", 15, 1300.00),\n",
    "    (123, \"Ar-condicionado\", \"Eletrodomésticos\", 18, 2000.00),\n",
    "    (124, \"Skate\", \"Esportes\", 50, 400.00),\n",
    "    (125, \"Câmera DSLR\", \"Eletrônicos\", 12, 4000.00),\n",
    "    (126, \"Monitor 4K\", \"Eletrônicos\", 27, 2500.00),\n",
    "    (127, \"Caneca Personalizada\", \"Acessórios\", 150, 35.00),\n",
    "    (128, \"Colar de Prata\", \"Acessórios\", 60, 120.00),\n",
    "    (129, \"Cafeteira\", \"Eletrodomésticos\", 40, 350.00),\n",
    "    (130, \"Sanduicheira\", \"Eletrodomésticos\", 35, 120.00),\n",
    "\n",
    "]\n"
   ]
  },
  {
   "cell_type": "markdown",
   "id": "77163931-6f9a-49f8-9748-b5444c469583",
   "metadata": {},
   "source": [
    "- Desafio 1: Total de Produtos Vendidos por Categoria<br>\n",
    "  Escreva um programa que some a quantidade de produtos vendidos em cada categoria e exiba o total de vendas por categoria.\n",
    "\n",
    "  O objetivo é somar a quantidade de produtos vendidos em cada categoria e exibir o total de vendas por categoria.<br> Para isso, podemos usar um dicionário onde a chave é o nome da categoria e o valor é a soma das quantidades vendidas de todos os produtos dessa categoria.<br>\n",
    "\n",
    "Inicialize um dicionário vazio para armazenar a soma das vendas por categoria.<br>\n",
    "Percorra cada tupla da base de dados.<br>\n",
    "Verifique se a categoria já está no dicionário:<br>\n",
    "Se estiver, some a quantidade vendida ao valor existente.<br>\n",
    "Se não estiver, adicione a categoria ao dicionário e inicialize com a quantidade vendida desse produto."
   ]
  },
  {
   "cell_type": "code",
   "execution_count": 58,
   "id": "936068e7-fbb4-4090-bd46-2a830f876ec1",
   "metadata": {},
   "outputs": [
    {
     "name": "stdout",
     "output_type": "stream",
     "text": [
      "{'Eletrônicos': 189, 'Acessórios': 845, 'Vestuário': 280, 'Calçados': 80, 'Livros': 300, 'Móveis': 40, 'Esportes': 150, 'Eletrodomésticos': 138}\n",
      "=======================================================================\n",
      "Categoria: Eletrônicos - Total de produtos vendidos: 189\n",
      "Categoria: Acessórios - Total de produtos vendidos: 845\n",
      "Categoria: Vestuário - Total de produtos vendidos: 280\n",
      "Categoria: Calçados - Total de produtos vendidos: 80\n",
      "Categoria: Livros - Total de produtos vendidos: 300\n",
      "Categoria: Móveis - Total de produtos vendidos: 40\n",
      "Categoria: Esportes - Total de produtos vendidos: 150\n",
      "Categoria: Eletrodomésticos - Total de produtos vendidos: 138\n"
     ]
    }
   ],
   "source": [
    "\n",
    "vendas_por_categoria = {}\n",
    "\n",
    "for dados in dados_ecommerce:\n",
    "    id_produto, produto, categoria, unidades, vendas = dados\n",
    "    \n",
    "\n",
    "   \n",
    "     # Adicione a quantidade ao total da categoria\n",
    "\n",
    "    if categoria in vendas_por_categoria:\n",
    "         vendas_por_categoria[categoria] += unidades\n",
    "    else:\n",
    "        vendas_por_categoria[categoria] = unidades\n",
    "    # print(vendas_por_categoria)\n",
    "\n",
    "print(vendas_por_categoria)\n",
    "print(\"=======================================================================\")\n",
    "        \n",
    "# Imprima o total de vendas por categoria\n",
    "for categoria, total_vendas in vendas_por_categoria.items():\n",
    "    print(f\"Categoria: {categoria} - Total de produtos vendidos: {total_vendas}\")\n",
    "\n",
    "# vendas_por_categoria = {\n",
    "    \n",
    "# {'Eletrônicos': 189, \n",
    "#  'Acessórios': 845, \n",
    "#  'Vestuário': 280, \n",
    "#  'Calçados': 80, \n",
    "#  'Livros': 300, \n",
    "#  'Móveis': 40, \n",
    "#  'Esportes': 150, \n",
    "#  'Eletrodomésticos': 138\n",
    "# }  \n",
    "    \n",
    "# }\n",
    "\n",
    "    \n",
    "    "
   ]
  },
  {
   "cell_type": "markdown",
   "id": "c442bc5a-304d-4b88-a6f2-874b620536c2",
   "metadata": {},
   "source": [
    "- Desafio 2: Produto com Maior Receita Total<br>\n",
    "\n",
    "Identifique o produto que gerou a maior receita total, <br>onde a receita é calculada como quantidade vendida * preço. Exiba o nome e a receita desse produto."
   ]
  },
  {
   "cell_type": "code",
   "execution_count": 2,
   "id": "bf0befbb-171c-4730-b7fc-3197cfb928a1",
   "metadata": {},
   "outputs": [],
   "source": [
    "# codigo aqui"
   ]
  },
  {
   "cell_type": "markdown",
   "id": "51e311a4-24c7-4d3e-b892-01a1c09a985f",
   "metadata": {},
   "source": [
    "- Desafio 3: Produtos com Menos de 50 Unidades Vendidas\n",
    "\n",
    "Crie um script que liste todos os produtos com menos de 50 unidades vendidas, <br>mostrando o nome do produto, a categoria e a quantidade vendida.\n"
   ]
  },
  {
   "cell_type": "code",
   "execution_count": 3,
   "id": "4b535788-d088-4db7-9f7b-bdde0e242cc7",
   "metadata": {},
   "outputs": [],
   "source": [
    "#codigo aqui"
   ]
  },
  {
   "cell_type": "markdown",
   "id": "053de7ec-3275-47e6-acdc-99a2a59946a2",
   "metadata": {},
   "source": [
    "- Desafio 4: Preço Médio por Categoria\n",
    "\n",
    "Escreva um código que calcule o preço médio dos produtos em cada categoria e exiba o resultado."
   ]
  },
  {
   "cell_type": "code",
   "execution_count": 4,
   "id": "8c39acbe-e730-4abf-bd53-fceb6096f575",
   "metadata": {},
   "outputs": [],
   "source": [
    "#codigo "
   ]
  },
  {
   "cell_type": "markdown",
   "id": "0d4c3168-cbee-4f92-b71f-667421c88b62",
   "metadata": {},
   "source": [
    "- Desafio 5: Top 3 Produtos Mais Vendidos\n",
    "\n",
    "Gere uma lista dos três produtos mais vendidos (com base na quantidade vendida) e exiba o nome e a quantidade de cada um."
   ]
  },
  {
   "cell_type": "code",
   "execution_count": 5,
   "id": "9b5c33b8-5377-447b-bc20-a7c7d1b1a14d",
   "metadata": {},
   "outputs": [],
   "source": [
    "#codigo"
   ]
  },
  {
   "cell_type": "markdown",
   "id": "f29e12c7-5ae3-4163-8a5d-14e8b588f53b",
   "metadata": {},
   "source": [
    " - Desafio 6: Produtos com Receita Total Acima de R$10,000\n",
    "\n",
    "Crie um script que filtre e exiba todos os produtos que geraram uma receita total superior a R$10,000."
   ]
  },
  {
   "cell_type": "code",
   "execution_count": 6,
   "id": "6a89ea82-dfaa-49f4-be4d-b772cd148cb2",
   "metadata": {},
   "outputs": [],
   "source": [
    "# codigo"
   ]
  },
  {
   "cell_type": "markdown",
   "id": "33f7dbe5-f436-4da1-8107-b972f256805e",
   "metadata": {},
   "source": [
    "- Desafio 7: Buscar Produto por Nome\n",
    "\n",
    "Implemente uma função que receba o nome de um produto e retorne todas as informações sobre ele (ID, categoria, quantidade vendida e preço). Se o produto não for encontrado, exiba uma mensagem de aviso."
   ]
  },
  {
   "cell_type": "code",
   "execution_count": 7,
   "id": "d9e68bf4-b1ab-49b7-8dc7-1f9c629b4564",
   "metadata": {},
   "outputs": [],
   "source": [
    "#codigo"
   ]
  },
  {
   "cell_type": "markdown",
   "id": "0b3a6300-5d79-44aa-8a9f-a0dfd3c358e2",
   "metadata": {},
   "source": [
    "- Desafio 8: Categoria com o Menor Número de Produtos\n",
    "\n",
    "Encontre e exiba a categoria que tem o menor número de produtos registrados na base de dados."
   ]
  },
  {
   "cell_type": "code",
   "execution_count": 8,
   "id": "53246466-3afe-4f01-ae97-532b14fa8b8d",
   "metadata": {},
   "outputs": [],
   "source": [
    "# codigo"
   ]
  },
  {
   "cell_type": "markdown",
   "id": "9cd49e9c-ed7c-4cff-9e6d-6ec6cfec739b",
   "metadata": {},
   "source": [
    "- Desafio 9: Total de Produtos em Estoque\n",
    "\n",
    "Calcule e exiba o total de produtos em estoque (quantidade vendida) em todas as categorias."
   ]
  },
  {
   "cell_type": "code",
   "execution_count": 10,
   "id": "74497a4b-325e-432e-b458-42b2c3c99615",
   "metadata": {},
   "outputs": [],
   "source": [
    "# codigo"
   ]
  },
  {
   "cell_type": "markdown",
   "id": "07f1ecee-b200-4ebb-9590-66508dc76a08",
   "metadata": {},
   "source": [
    "- Desafio 10: Produto com Menor Preço\n",
    "\n",
    "Escreva um script que encontre o produto com o menor preço e exiba seu nome, categoria e valor."
   ]
  },
  {
   "cell_type": "code",
   "execution_count": null,
   "id": "810abb65-0f64-4ba9-8bb8-cd9b03830e5e",
   "metadata": {},
   "outputs": [],
   "source": []
  }
 ],
 "metadata": {
  "kernelspec": {
   "display_name": "Python 3 (ipykernel)",
   "language": "python",
   "name": "python3"
  },
  "language_info": {
   "codemirror_mode": {
    "name": "ipython",
    "version": 3
   },
   "file_extension": ".py",
   "mimetype": "text/x-python",
   "name": "python",
   "nbconvert_exporter": "python",
   "pygments_lexer": "ipython3",
   "version": "3.12.7"
  }
 },
 "nbformat": 4,
 "nbformat_minor": 5
}
